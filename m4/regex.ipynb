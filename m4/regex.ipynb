{
  "cells": [
    {
      "cell_type": "markdown",
      "metadata": {},
      "source": [
        "# M4L1 - Regular Expressions\n",
        "\n",
        "## String Manipulation\n",
        "\n",
        "A lot of what we do comes down to manipulating strings. Unfortunately, this isn't a thing computers are particularly efficient at.\n",
        "\n",
        "Unlike math, where we can parallelize a lot of operations, string manipulation is sequential. It often involves iterating over something one character at a time.\n",
        "\n",
        "`str.replace()` is a good example of this. It's a very useful function, but it's not very efficient. It has to iterate over the string, and for each character it has to check if it matches the character it's looking for, and if it does, it has to copy the rest of the string over to a new string.\n",
        "\n",
        "Think a bit about how you'd implement most string functions, and you'll see it's virtually impossible to do anything other than go one character at a time.\n",
        "\n",
        "This means most string operations are O(n) - they take time proportional to the length of the string.\n",
        "\n",
        "### String Methods\n",
        "\n",
        "| Method(s) | Description |\n",
        "|-----------|-------------|\n",
        "| `str.upper()`, `str.lower()` | Convert to upper or lower case. |\n",
        "| `str.isupper()`, `str.islower()` | Check if all characters are upper or lower case. |\n",
        "| `str.strip()`, `str.lstrip()`, `str.rstrip()` | Remove whitespace from the beginning or end of a string. |\n",
        "| `str.replace()` | Replace all occurrences of a string with another string. |\n",
        "| `str.split()` | Split a string into a list of substrings. |\n",
        "| `str.startswith()`, `str.endswith()` | Check if a string starts or ends with a substring. |\n",
        "| `substr in str` | Check if a string contains a substring. |\n",
        "| `str.count()` | Count the number of occurrences of a substring. |\n",
        "| `str.find()`, `str.rfind()` | Find the index of the first or last occurrence of a substring. |\n",
        "| `str.index()`,`str.rindex()` | Find the index of the first or last occurrence of a substring. |\n",
        "| `str.isalpha()`, `str.isalnum()`, `str.isdigit()`, etc. | Check if all characters in a string are alphabetic, alphanumeric, digits, etc. |\n",
        "\n",
        "<https://docs.python.org/3/library/string.html>\n",
        "\n",
        "## Common String Manipulation Tasks\n",
        "\n",
        "* **Searching** - Finding a substring in a string.\n",
        "* **Replacing** - Replacing a substring with another substring.\n",
        "* **Splitting** - Splitting a string into a list of substrings based on some character(s).\n",
        "* **Validating/Matching** - Checking if a string is in a particular format.\n",
        "\n",
        "### Example\n",
        "\n",
        "You're working on a project to analyze court filings.\n",
        "\n",
        "* One member of your team is working on OCR (Optical Character Recognition) to convert scanned documents into text files.\n",
        "* Another member of your team will be visualizing the data, and they need the counts of ten key terms in each document.\n",
        "* Your job is to write a function that takes a word and a text file, and returns the number of times that word appears in the text file.\n",
        "\n",
        "This seems like a simple task, you don't have real data yet, so we'll take a free text file of comparable size from Project Gutenberg, and use that."
      ]
    },
    {
      "cell_type": "code",
      "execution_count": 1,
      "metadata": {},
      "outputs": [],
      "source": [
        "all_text = open('shakespeare.txt').read()\n",
        "\n",
        "def count_word(word, text):\n",
        "    counter = 0\n",
        "    for w in text.split():\n",
        "        if w == word:\n",
        "            counter += 1\n",
        "    return counter"
      ]
    },
    {
      "cell_type": "markdown",
      "metadata": {},
      "source": [
        "You decide to test the function with:"
      ]
    },
    {
      "cell_type": "code",
      "execution_count": 4,
      "metadata": {},
      "outputs": [
        {
          "ename": "KeyboardInterrupt",
          "evalue": "",
          "output_type": "error",
          "traceback": [
            "\u001b[0;31m---------------------------------------------------------------------------\u001b[0m",
            "\u001b[0;31mKeyboardInterrupt\u001b[0m                         Traceback (most recent call last)",
            "Cell \u001b[0;32mIn[4], line 3\u001b[0m\n\u001b[1;32m      1\u001b[0m \u001b[39mimport\u001b[39;00m \u001b[39mtimeit\u001b[39;00m\n\u001b[1;32m      2\u001b[0m number \u001b[39m=\u001b[39m \u001b[39m10\u001b[39m\u001b[39m*\u001b[39m\u001b[39m10000\u001b[39m \u001b[39m# (10 words to search for) * (10000 documents to search)\u001b[39;00m\n\u001b[0;32m----> 3\u001b[0m timeit\u001b[39m.\u001b[39;49mtimeit(\u001b[39m\"\u001b[39;49m\u001b[39mcount_word(\u001b[39;49m\u001b[39m'\u001b[39;49m\u001b[39mRomeo\u001b[39;49m\u001b[39m'\u001b[39;49m\u001b[39m, all_text)\u001b[39;49m\u001b[39m\"\u001b[39;49m, \u001b[39mglobals\u001b[39;49m\u001b[39m=\u001b[39;49m\u001b[39mglobals\u001b[39;49m(), number\u001b[39m=\u001b[39;49mnumber)\n",
            "File \u001b[0;32m/opt/homebrew/Cellar/python@3.10/3.10.9/Frameworks/Python.framework/Versions/3.10/lib/python3.10/timeit.py:234\u001b[0m, in \u001b[0;36mtimeit\u001b[0;34m(stmt, setup, timer, number, globals)\u001b[0m\n\u001b[1;32m    231\u001b[0m \u001b[39mdef\u001b[39;00m \u001b[39mtimeit\u001b[39m(stmt\u001b[39m=\u001b[39m\u001b[39m\"\u001b[39m\u001b[39mpass\u001b[39m\u001b[39m\"\u001b[39m, setup\u001b[39m=\u001b[39m\u001b[39m\"\u001b[39m\u001b[39mpass\u001b[39m\u001b[39m\"\u001b[39m, timer\u001b[39m=\u001b[39mdefault_timer,\n\u001b[1;32m    232\u001b[0m            number\u001b[39m=\u001b[39mdefault_number, \u001b[39mglobals\u001b[39m\u001b[39m=\u001b[39m\u001b[39mNone\u001b[39;00m):\n\u001b[1;32m    233\u001b[0m     \u001b[39m\"\"\"Convenience function to create Timer object and call timeit method.\"\"\"\u001b[39;00m\n\u001b[0;32m--> 234\u001b[0m     \u001b[39mreturn\u001b[39;00m Timer(stmt, setup, timer, \u001b[39mglobals\u001b[39;49m)\u001b[39m.\u001b[39;49mtimeit(number)\n",
            "File \u001b[0;32m/opt/homebrew/Cellar/python@3.10/3.10.9/Frameworks/Python.framework/Versions/3.10/lib/python3.10/timeit.py:178\u001b[0m, in \u001b[0;36mTimer.timeit\u001b[0;34m(self, number)\u001b[0m\n\u001b[1;32m    176\u001b[0m gc\u001b[39m.\u001b[39mdisable()\n\u001b[1;32m    177\u001b[0m \u001b[39mtry\u001b[39;00m:\n\u001b[0;32m--> 178\u001b[0m     timing \u001b[39m=\u001b[39m \u001b[39mself\u001b[39;49m\u001b[39m.\u001b[39;49minner(it, \u001b[39mself\u001b[39;49m\u001b[39m.\u001b[39;49mtimer)\n\u001b[1;32m    179\u001b[0m \u001b[39mfinally\u001b[39;00m:\n\u001b[1;32m    180\u001b[0m     \u001b[39mif\u001b[39;00m gcold:\n",
            "File \u001b[0;32m<timeit-src>:6\u001b[0m, in \u001b[0;36minner\u001b[0;34m(_it, _timer)\u001b[0m\n",
            "Cell \u001b[0;32mIn[1], line 5\u001b[0m, in \u001b[0;36mcount_word\u001b[0;34m(word, text)\u001b[0m\n\u001b[1;32m      3\u001b[0m \u001b[39mdef\u001b[39;00m \u001b[39mcount_word\u001b[39m(word, text):\n\u001b[1;32m      4\u001b[0m     counter \u001b[39m=\u001b[39m \u001b[39m0\u001b[39m\n\u001b[0;32m----> 5\u001b[0m     \u001b[39mfor\u001b[39;00m w \u001b[39min\u001b[39;00m text\u001b[39m.\u001b[39;49msplit():\n\u001b[1;32m      6\u001b[0m         \u001b[39mif\u001b[39;00m w \u001b[39m==\u001b[39m word:\n\u001b[1;32m      7\u001b[0m             counter \u001b[39m+\u001b[39m\u001b[39m=\u001b[39m \u001b[39m1\u001b[39m\n",
            "\u001b[0;31mKeyboardInterrupt\u001b[0m: "
          ]
        }
      ],
      "source": [
        "import timeit\n",
        "number = 10*10000 # (10 words to search for) * (10000 documents to search)\n",
        "timeit.timeit(\"count_word('Romeo', all_text)\", globals=globals(), number=number)"
      ]
    },
    {
      "cell_type": "markdown",
      "metadata": {},
      "source": [
        "<https://docs.python.org/3/library/timeit.html>\n",
        "\n",
        "This takes forever to run, but you eventually find out it takes 2.7 hours to run 100,000 times.  (110ms/iteration)\n",
        "\n",
        "Not great, but for a one-off script it's not _too_ bad. You decide to move on to the next task.\n",
        "\n",
        "During code review it is pointed out you will need to ignore case:"
      ]
    },
    {
      "cell_type": "code",
      "execution_count": null,
      "metadata": {},
      "outputs": [],
      "source": [
        "def count_word(word, text):\n",
        "    counter = 0\n",
        "    for w in text.split():\n",
        "        if w.lower() == word.lower():\n",
        "            counter += 1\n",
        "    return counter"
      ]
    },
    {
      "cell_type": "markdown",
      "metadata": {},
      "source": [
        "This made it take about twice as long to run. 200ms/iteration, or 5.5 hours for the full corpus.\n",
        "\n",
        "**Why did it take twice as long?**\n",
        "\n",
        "**There's one easy optimization that can shave about 40ms/iteration off, what is it?**\n",
        "\n",
        "Just as you start to worry about what happens if the corpus grows, you get a few more requirements:\n",
        "\n",
        "* Ignore punctuation\n",
        "* Ignore plurals (for our purposes we can just ignore trailing s characters)\n",
        "* Sometimes page numbers are showing up in the middle of scans, and we want to ignore those too, so strip all number characters."
      ]
    },
    {
      "cell_type": "code",
      "execution_count": null,
      "metadata": {},
      "outputs": [],
      "source": [
        "def count_word(word, text):\n",
        "    counter = 0\n",
        "    for word in text.split():\n",
        "        # remove all numeric characters that might appear inside words\n",
        "        w = \"\".join([c for c in word if c not in '0123456789'])\n",
        "        w = w.lower()\n",
        "        # remove leading/trailing punctuation (but not punctuation in the middle)\n",
        "        w = w.strip('.,!?;:\"\\'') \n",
        "        if w == word or w + \"s\" == word:\n",
        "            counter += 1\n",
        "    return counter"
      ]
    },
    {
      "cell_type": "markdown",
      "metadata": {},
      "source": [
        "Now it is taking 740ms per call, a full run takes over 20 hours.\n",
        "As more requirements come in, the code gets more and more complicated, and it takes longer and longer to run.\n",
        "\n",
        "We know each time we add a new requirement, we have to iterate over each word in the text, and do some work on it.\n",
        "But what if we could do all of that work in a single pass?\n",
        "\n",
        "### Enter Regular Expressions"
      ]
    },
    {
      "cell_type": "code",
      "execution_count": null,
      "metadata": {},
      "outputs": [],
      "source": [
        "import re\n",
        "\n",
        "\n",
        "def count_word(word, text):\n",
        "    # remove all non-alphabetical characters that might appear inside words\n",
        "    text = re.sub(r'[\\d.,!?;:\"\\']', '', text)\n",
        "    # return number of matches of word separated by \"word boundaries\" with optional trailing s\n",
        "    return len(re.findall(r\"\\W\" + word + \"s?\\W\", text, re.IGNORECASE))"
      ]
    },
    {
      "cell_type": "markdown",
      "metadata": {},
      "source": [
        "Back down to 150ms/iteration, a savings of 16 hours for our moderately sized data!\n",
        "\n",
        "## Why Regular Expressions?\n",
        "\n",
        "Whether we're searching or manipulating strings, or a bit of both, it can be very useful to have a way to describe patterns in strings.\n",
        "\n",
        "Regular expressions provide a common grammar that allows us to describe patterns in strings.\n",
        "Like SQL, there are many different flavors of regular expressions, but they all have the same basic concepts and more in common than they have different.\n",
        "\n",
        "### Examples\n",
        "\n",
        "| Pattern | Explanation | Example Matches |\n",
        "|---------|---------|--|\n",
        "| `pies?` | Match the word \"pie\" or \"pies\" | \"pie\", \"pies\" |\n",
        "| `c[aou]t` | Match words words that start and end with c & t, and have a/o/u in the middle. | \"cat\", \"cot\", \"cut\" |\n",
        "| `\\d{3}-\\d{3}-\\d{4}` | Match a phone number in dashed format. | \"123-456-7890\" |\n",
        "| `[A-Z][a-z]+, [A-Z]{2}` | Match a city name in the format \"City, ST\" | \"Chicago, IL\", \"Detroit, MI\" |\n",
        "| `\\d\\s*(\\w+)` | Match a number followed by zero or more spaces followed by one or more letters. Capture the letters. | 1 apple -> apple, 2   oranges -> oranges, 3bananas -> bananas |\n",
        "\n",
        "We'll learn more about these patterns in the next section, first let's take a look at how to use them in Python.\n",
        "\n",
        "## Regular Expressions in Python\n",
        "\n",
        "Python, like many other languages, has a built-in regular expression module.\n",
        "\n",
        "* `re.findall` - Find all occurrences of a pattern in a string.\n",
        "* `re.finditer` - Find all occurrences of a pattern in a string, and return an iterator.\n",
        "* `re.match` - Check if a string matches a pattern.\n",
        "* `re.search` - Find the first occurrence of a pattern in a string.\n",
        "* `re.sub` - Replace all occurrences of a pattern in a string with another string.\n",
        "* `re.split` - Split a string into a list of substrings based on a pattern.\n",
        "\n",
        "<https://docs.python.org/3/library/re.html>\n",
        "\n",
        "### `re.findall` & `re.finditer`\n",
        "\n",
        "`re.findall` is used to find all occurrences of a pattern in a string and return them all at once in a list.\n",
        "\n",
        "`re.finditer` returns a lazy iterator of all matches that'll let you iterate over them one at a time."
      ]
    },
    {
      "cell_type": "code",
      "execution_count": null,
      "metadata": {},
      "outputs": [],
      "source": [
        "import re\n",
        "\n",
        "four_letter_words = re.findall(r\" (\\w{4}) \", \"The quick brown fox jumps over the lazy dog.\")\n",
        "# [\"over\", \"lazy\"]"
      ]
    },
    {
      "cell_type": "markdown",
      "metadata": {},
      "source": [
        "### `re.match`\n",
        "\n",
        "`re.match` is used to check if a string matches a pattern.  This is useful for validating input."
      ]
    },
    {
      "cell_type": "code",
      "execution_count": null,
      "metadata": {},
      "outputs": [],
      "source": [
        "import re\n",
        "\n",
        "def validate_phone_number(phone_number):\n",
        "    return re.match(r\"\\d{3}-\\d{3}-\\d{4}\", phone_number)\n",
        "\n",
        "def validate_phone_number_bad(phone_number):\n",
        "    if len(phone_number) != 12:\n",
        "        return False\n",
        "    if phone_number[3] != '-':\n",
        "        return False\n",
        "    if phone_number[7] != '-':\n",
        "        return False\n",
        "    for i in range(12):\n",
        "        if i == 3 or i == 7:\n",
        "            continue\n",
        "        if not phone_number[i].isdigit():\n",
        "            return False\n",
        "    return True"
      ]
    },
    {
      "cell_type": "markdown",
      "metadata": {},
      "source": [
        "`validate_phone_number` is much easier to read and understand, and it is much easier to maintain.  It also takes less than a second to run 1,000,000 validations.\n",
        "\n",
        "The naive `validate_phone_number_bad` takes about twice as long. With large data sets, and dozens of complex validations, the difference can be huge.\n",
        "\n",
        "### `re.sub`\n",
        "\n",
        "`re.sub` is used to replace all occurrences of a pattern in a string."
      ]
    },
    {
      "cell_type": "code",
      "execution_count": null,
      "metadata": {},
      "outputs": [],
      "source": [
        "import re\n",
        "\n",
        "text = \"The quick brown fox jumps over the lazy dog.\"\n",
        "text = re.sub(r\"[aeiou]\", \"~\", text)\n",
        "# \"Th~ q~ck br~wn f~x j~mps ~v~r th~ l~zy d~g.\""
      ]
    },
    {
      "cell_type": "markdown",
      "metadata": {},
      "source": [
        "`re.sub` is very fast, and often allows us to do things that are much more complicated than a simple string replace would thus multiplying the speedup.\n",
        "\n",
        "### `re.split` & `re.search`\n",
        "\n",
        "`re.split` is used to split a string into a list of substrings based on a pattern. This is less commonly used, but can be useful if something like the standard CSV parser can't handle a particular format.\n",
        "\n",
        "`re.search` is used to find the first occurrence of a pattern in a string.  This is useful if you want to extract a substring from a string.\n",
        "\n",
        "### `re.compile`\n",
        "\n",
        "If you are going to use the same pattern multiple times, it is more efficient to compile the pattern into a regular expression object.\n",
        "\n",
        "For validation for example:"
      ]
    },
    {
      "cell_type": "code",
      "execution_count": null,
      "metadata": {},
      "outputs": [],
      "source": [
        "import re\n",
        "\n",
        "phone_number_pattern = re.compile(r\"\\d{3}-\\d{3}-\\d{4}\")\n",
        "\n",
        "# phone_number pattern is a compiled regular expression object\n",
        "print(type(phone_number_pattern))\n",
        "print(phone_number_pattern)\n",
        "\n",
        "def validate_phone_number(phone_number):\n",
        "    return phone_number_pattern.match(phone_number)"
      ]
    },
    {
      "cell_type": "markdown",
      "metadata": {},
      "source": [
        "Cuts the time down to only 0.4s for 1,000,000 validations. A 60% speedup.\n",
        "\n",
        "All of the methods above can be called on a compiled regular expression object.\n",
        "\n",
        "(e.g. `re.findall(pattern, text)` is the same as `pattern.findall(text)` if you've compiled the pattern.)\n",
        "\n",
        "### Flags\n",
        "\n",
        "Python's regular expression module supports a number of flags that can be passed to the `re.compile` function or any of the methods.\n",
        "\n",
        "* `re.IGNORECASE` - ignore case when matching\n",
        "* `re.MULTILINE` - treat the string as multiple lines when evaluating certain patterns (e.g. `^` and `$`)\n",
        "* `re.DOTALL` - allow `.` to match newlines\n",
        "* `re.VERBOSE` - allow comments and whitespace in the pattern"
      ]
    },
    {
      "cell_type": "code",
      "execution_count": null,
      "metadata": {},
      "outputs": [],
      "source": [
        "import re\n",
        "\n",
        "text = \"\"\"\n",
        "The quick brown fox jumps over the lazy dog...\n",
        "Lorem ipsum dolor sit amet, consectetur adipiscing elit...\n",
        "But I must explain to you how all this mistaken idea...\n",
        "Then I saw the storm coming...\n",
        "\"\"\"\n",
        "\n",
        "pattern = re.compile(r\"\"\"\n",
        "    $      # start of line\n",
        "    \\w{3}  # 3 letter word\n",
        "    \\s     # whitespace\n",
        "    \\w*    # any number of letters\n",
        "    \\s     # whitespace\n",
        "    \\w*    # include third word\n",
        "\"\"\", re.VERBOSE | re.IGNORECASE | re.MULTILINE) # combine flags with the | operator\n",
        "\n",
        "pattern.findall(text) # [\"The quick brown\", \"But I must explain\"]"
      ]
    },
    {
      "attachments": {},
      "cell_type": "markdown",
      "metadata": {},
      "source": [
        "## Regular Expression Syntax\n",
        "\n",
        "Regular expressions describe patterns.\n",
        "\n",
        "**A character on it's own is a pattern that matches that character.**\n",
        "\n",
        "This means the regex `a` will match the string `a` but not `b` or `A`.\n",
        "\n",
        "**`ab` matches `ab` but not `a`, `b`, `ba`, or `AB`.**\n",
        "\n",
        "This is true for any combination of symbols.  As `a` and `b` grow to be full patterns of their own, this rule will hold.\n",
        "\n",
        "i.e. `\\w{3}[aeiou]?s` and `\\s\\d{4}` are both valid patterns which we'll learn about shortly, this means they can be combined into\n",
        "the pattern `\\w{3}[aeiou]?s\\s\\d{4}` which will match `dogs 1234` but not `dog 1234` or `dogs1234`.\n",
        "\n",
        "While this looks complex now, once we know how to break it into parts we'll see this allows us to read and understand complex patterns.\n",
        "\n",
        "**`a|b` matches `a` or `b`**\n",
        "\n",
        "This is called alternation.  It is useful for matching multiple patterns.\n",
        "\n",
        "**Parenthesis \\( \\) can be used for grouping**\n",
        "\n",
        "This means we can write `(ab|cd)` which will match `ab` or `cd`.\n"
      ]
    },
    {
      "attachments": {},
      "cell_type": "markdown",
      "metadata": {},
      "source": [
        "\n",
        "### Character Classes\n",
        "\n",
        "While it'd be possible to write a regex like\n",
        "\n",
        "(1|2|3|4|5|6|7|8|9|0) to match a single digit, it's much easier to use a range or character class.\n",
        "\n",
        "[] - matches any character in the brackets, allows lexical ranges\n",
        "Prefixing the character class with a ^ will match any character not in the brackets.\n",
        "\n",
        "* `[0-9]` - matches any digit\n",
        "* `[^abc]` - matches any character except a, b, or c\n",
        "* `[a-z]` - matches any lowercase letter\n",
        "* `[A-Z]` - matches any uppercase letter\n",
        "* `[^ \\n\\t]` - matches any character except whitespace\n",
        "* `[a-zA-Z]` - matches any letter in either case\n",
        "* `[aeiou]` - matches any vowel\n",
        "\n",
        "What about these?\n",
        "\n",
        "* `[^aeiou]`\n",
        "* `[^0-9 ]`\n",
        "* `[-_a-zA-Z0-9]`\n",
        "\n",
        "A couple of things to note:\n",
        "\n",
        "* There are letters (and numbers!) that are not in the range a-z or A-Z from non-english languages. These are not included in the above ranges when specifying a-z.\n",
        "* If you need to match a literal like `]` that has a special meaning, you prefix it with a backslash.\n",
        "\n",
        "Certain character classes are so common they have their own shortcuts:\n",
        "\n",
        "* `\\d` - matches any digit\n",
        "* `\\D` - matches any non-digit\n",
        "* `\\w` - matches any alphanumeric character\n",
        "* `\\W` - matches any non-alphanumeric character\n",
        "* `\\s` - matches any whitespace character\n",
        "* `\\S` - matches any non-whitespace character\n",
        "\n",
        "### Quantifiers\n",
        "\n",
        "Quantifiers are used to specify how many times a pattern should be matched.\n",
        "\n",
        "These quantifiers can occur after any pattern:\n",
        "\n",
        "* `?` - match 0 or 1 times\n",
        "* `*` - match 0 or more times\n",
        "* `+` - match 1 or more times\n",
        "* `{n}` - match exactly n times\n",
        "* `{n,}` - match at least n times\n",
        "* `{n,m}` - match at least n times but no more than m times\n",
        "\n",
        "If there is no quantifier, the pattern is matched exactly once.\n",
        "\n",
        "* `a?` - matches 0 or 1 `a`\n",
        "* `\\w*` - matches 0 or more alphanumeric characters\n",
        "* `\\s+` - matches 1 or more whitespace characters\n",
        "* `\\d{3}` - matches exactly 3 digits\n",
        "* `\\d{3,}` - matches at least 3 digits\n",
        "* `\\d{3,5}` - matches at least 3 digits but no more than 5\n",
        "\n",
        "Greediness is the default behavior of quantifiers.  This means they will match as many times as possible.\n",
        "\n",
        "If you want to make an operator non-greedy, you can add a `?` after it.  This is commonly used with `*` and `+` which can otherwise consume too much of the string.\n",
        "\n",
        "* `a*?` - matches 0 or more `a` but as few as possible based on the rest of the pattern\n",
        "* `\\W+?` - matches 1 or more non-alphanumeric characters but as few as possible based on the rest of the pattern\n",
        "\n",
        "### Anchors\n",
        "\n",
        "Anchors are used to match the beginning or end of a string.\n",
        "\n",
        "* `^` - matches the beginning of a string\n",
        "* `$` - matches the end of a string\n",
        "* `\\A` - matches the beginning of a line (same as ^ if in MULTILINE mode)\n",
        "* `\\Z` - matches the end of a line (same as $ if in MULTILINE mode)\n",
        "* `\\b` - matches a word boundary (a special symbol that looks for the boundary between a sequence of alphanumeric characters and a sequence of non-alphanumeric characters)\n",
        "\n",
        "### Groups\n",
        "\n",
        "Parentheses can be used to group patterns together.\n",
        "\n",
        "This is useful for applying quantifiers to multiple patterns at once.  For example:\n",
        "\n",
        "* `(ab)+` - matches 1 or more `ab`, but not `a` or `b` on their own.\n",
        "* `(a|an|the)?` - optionally matches `an`, `a`, or `the`\n",
        "\n",
        "It also allows us to refer to the group later in the pattern.\n",
        "\n",
        "* `(\\w+) \\1` - matches a word followed by the same word again.  For example, `the the` or `dog dog` but not `the dog` or `dog the`.\n",
        "\n",
        "\\1 refers to the first group, \\2 refers to the second group, etc.\n",
        "\n",
        "This can also be used when using the `sub` method of the `re` module, for example:"
      ]
    },
    {
      "cell_type": "code",
      "execution_count": null,
      "metadata": {},
      "outputs": [],
      "source": [
        "import re\n",
        "\n",
        "text = \"Hello, and welcome to CAPP 30122, most of you have taken CAPP 30121.\"\n",
        "re.sub(r\"30(\\d{3})\", \"99\\1\", text)\n",
        " # \"Hello, and welcome to CAPP 99122, most of you have taken CAPP 99121.\""
      ]
    },
    {
      "cell_type": "markdown",
      "metadata": {},
      "source": [
        "## Regular Expression Examples"
      ]
    }
  ],
  "metadata": {
    "kernelspec": {
      "display_name": "Python 3",
      "language": "python",
      "name": "python3"
    },
    "language_info": {
      "codemirror_mode": {
        "name": "ipython",
        "version": 3
      },
      "file_extension": ".py",
      "mimetype": "text/x-python",
      "name": "python",
      "nbconvert_exporter": "python",
      "pygments_lexer": "ipython3",
      "version": "3.10.9"
    },
    "vscode": {
      "interpreter": {
        "hash": "b0fa6594d8f4cbf19f97940f81e996739fb7646882a419484c72d19e05852a7e"
      }
    }
  },
  "nbformat": 4,
  "nbformat_minor": 4
}
