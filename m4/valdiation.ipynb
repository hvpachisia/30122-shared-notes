{
  "cells": [
    {
      "cell_type": "markdown",
      "metadata": {},
      "source": [
        "# M4L3: Data Munging & Validation\n",
        "\n",
        "## `pandas` for Data Munging\n",
        "\n",
        "`pandas` can be very helpful for cleaning up tabular data.\n",
        "\n",
        "Because `pandas` has a lot of functionality, it can be a bit overwhelming to learn.  We'll walk through an example together to illustrate some of the most useful features for data cleaning.\n",
        "\n",
        "### Refresher: `pandas` Data Structures\n",
        "\n",
        "* `Series` - a one-dimensional array of data. Each element has an index (like a dictionary key), and a value.\n",
        "* `DataFrame` - a two-dimensional array of data, each column is a `Series`.\n",
        "\n",
        "Another way to frame our understanding of the DataFrame object is to consider it a specialized dictionary. Whereas a dictionary maps arbitrary keys to arbitrary values, a DataFrame maps a column name to a Series of column data."
      ]
    },
    {
      "cell_type": "code",
      "metadata": {},
      "source": [
        "votes = pd.DataFrame(\n",
        "    {'yes_votes': {'Aukerman': 42, 'Mantzoukas': 54, 'Tompkins': 414, 'Haddad': 90},\n",
        "    'no_votes': {'Aukerman': 42, 'Mantzoukas': 12, 'Tompkins': 601, 'Haddad': 30}\n",
        "    },\n",
        ")\n",
        "votes"
      ],
      "execution_count": null,
      "outputs": []
    },
    {
      "cell_type": "code",
      "metadata": {},
      "source": [
        "# can calculate new columns\n",
        "votes['yes_pct'] = votes.yes_votes / (votes.yes_votes + votes.no_votes)\n",
        "votes"
      ],
      "execution_count": null,
      "outputs": []
    },
    {
      "cell_type": "code",
      "metadata": {},
      "source": [
        "# index by column\n",
        "votes[\"yes_pct\"]"
      ],
      "execution_count": null,
      "outputs": []
    },
    {
      "cell_type": "code",
      "metadata": {},
      "source": [
        "# or by row\n",
        "votes.loc['Aukerman']"
      ],
      "execution_count": null,
      "outputs": []
    },
    {
      "cell_type": "markdown",
      "metadata": {},
      "source": [
        "<https://pandas.pydata.org/docs/reference/frame.html>\n",
        "\n",
        "### Reading Data\n",
        "\n",
        "https://pandas.pydata.org/pandas-docs/stable/user_guide/io.html\n",
        "\n",
        "```python\n",
        "\n",
        "import pandas as pd\n",
        "\n",
        "# read a csv file\n",
        "df = pd.read_csv(\"data.csv\")\n",
        "\n",
        "# read from a database\n",
        "conn = sqlite3.connect(\"data.db\")\n",
        "df = pd.read_sql(\"SELECT * FROM data\", conn)\n",
        "```\n",
        "\n",
        "### Aside: How does `read_sql` work?\n",
        "\n",
        "### Useful Methods for Exploring Data\n",
        "\n",
        "* `df.head()` - show the first few rows of the DataFrame\n",
        "* `df.tail()` - show the last few rows of the DataFrame\n",
        "* `df.info()` - show the column names, data types, and number of non-null values\n",
        "* `df.describe()` - show summary statistics for numeric columns\n",
        "* `df.columns` - show the column names\n",
        "* `df.dtypes` - show the data types of each column\n",
        "\n",
        "Working with Missing Data: https://pandas.pydata.org/pandas-docs/stable/user_guide/missing_data.html\n",
        "\n",
        "### Useful Methods for Cleaning Data\n",
        "\n",
        "* `df.dropna()` - drop rows with null values\n",
        "* `df.fillna()` - replace null values with a value\n",
        "* `df.drop()` - drop rows or columns according to a label or index\n",
        "* `df.rename()` - rename columns\n",
        "* `df.astype()` - change the data type of a column\n",
        "\n",
        "String Operations: <https://pandas.pydata.org/pandas-docs/stable/user_guide/text.html>\n",
        "\n",
        "### Example: Loading Crime Data\n",
        "\n",
        "(Adapted from http://vis.stanford.edu/wrangler/)"
      ]
    },
    {
      "cell_type": "code",
      "metadata": {},
      "source": [
        "import pandas as pd\n",
        "\n",
        "crime = pd.read_csv(\"crime.csv\", header=None)\n",
        "print(crime)"
      ],
      "execution_count": null,
      "outputs": []
    },
    {
      "cell_type": "code",
      "metadata": {},
      "source": [
        "# we can provide our own name for the columns\n",
        "crime.columns = [\"year\", \"crimerate\"]\n",
        "crime"
      ],
      "execution_count": null,
      "outputs": []
    },
    {
      "cell_type": "code",
      "metadata": {},
      "source": [
        "# we can build an index of the rows\n",
        "crime.year.isnull() & crime.crimerate.isnull()"
      ],
      "execution_count": null,
      "outputs": []
    },
    {
      "cell_type": "code",
      "metadata": {},
      "source": [
        "# and drop these rows with `.drop`\n",
        "crime.drop(crime.index[crime.year.isnull() & crime.crimerate.isnull()], inplace=True)\n",
        "crime"
      ],
      "execution_count": null,
      "outputs": []
    },
    {
      "cell_type": "code",
      "metadata": {},
      "source": [
        "crime.year"
      ],
      "execution_count": null,
      "outputs": []
    },
    {
      "cell_type": "code",
      "metadata": {},
      "source": [
        "crime.crimerate"
      ],
      "execution_count": null,
      "outputs": []
    },
    {
      "cell_type": "code",
      "metadata": {},
      "source": [
        "# we can add a new column\n",
        "crime[\"state\"] = crime.year.str.extract(\"in\\s+(.*)\")\n",
        "crime"
      ],
      "execution_count": null,
      "outputs": []
    },
    {
      "cell_type": "code",
      "metadata": {},
      "source": [
        "# and replace null values\n",
        "crime.state.fillna(method='ffill', inplace=True)\n",
        "crime"
      ],
      "execution_count": null,
      "outputs": []
    },
    {
      "cell_type": "code",
      "metadata": {},
      "source": [
        "# now can drop all rows that still have nulls\n",
        "crime.dropna(inplace=True)\n",
        "crime"
      ],
      "execution_count": null,
      "outputs": []
    },
    {
      "cell_type": "code",
      "metadata": {},
      "source": [
        "# and pivot the data\n",
        "crime = crime.pivot(index=\"state\", columns=\"year\", values=\"crimerate\")\n",
        "crime"
      ],
      "execution_count": null,
      "outputs": []
    },
    {
      "cell_type": "code",
      "metadata": {},
      "source": [
        "# the data when formatted this way is suitable for\n",
        "# plotting with matplotlib\n",
        "crime.loc[\"Illinois\"].plot(kind=\"bar\")"
      ],
      "execution_count": null,
      "outputs": []
    },
    {
      "cell_type": "markdown",
      "metadata": {},
      "source": [
        "### Golden Rules of `pandas`\n",
        "\n",
        "**Avoid using `for` loops when possible.  `pandas` is designed to work with vectorized operations.**\n",
        "\n",
        "If you need to do something to every row or column, first go to the `pandas` documentation and see if there is a built-in method for doing it.\n",
        "\n",
        "If there isn't, you can use `applymap` to apply a function to every row or column as a last resort."
      ]
    },
    {
      "cell_type": "code",
      "metadata": {},
      "source": [
        "# e.g. we can double every value in the DataFrame\n",
        "crime.applymap(lambda x: x * 2)\n",
        "\n",
        "# or without lambda, equivalent to this\n",
        "def double(x):\n",
        "    return x * 2\n",
        "\n",
        "crime.applymap(double)"
      ],
      "execution_count": null,
      "outputs": []
    },
    {
      "cell_type": "markdown",
      "metadata": {},
      "source": [
        "## General Purpose Validation\n",
        "\n",
        "Tip #1) When validating numeric types, convert using `int()` or `float()` and catch `ValueError`.\n",
        "\n",
        "```python\n",
        "value = int(\"123\")\n",
        "\n",
        "try:\n",
        "    value = int(\"123x\")\n",
        "except ValueError:\n",
        "    print(\"invalid value\")\n",
        "```\n",
        "\n",
        "Tip #2) Consider the maxim \"be liberal in what you accept, and conservative in what you send.\"\n",
        "\n",
        "e.g. If your program is reading a column as a boolean, you may want to accept \"true\", \"TRUE\", \"t\", \"F\", \"False\", etc.\n",
        "But when you write a boolean value, you should only write \"True\" or \"False\".  (or whatever the standard is for your program)\n",
        "\n",
        "Tip #3) When validating dates, use `datetime.strptime()` and catch `ValueError`.\n",
        "\n",
        "```python\n",
        "from datetime import datetime\n",
        "\n",
        "value = datetime.strptime(\"2020-01-01\", \"%Y-%m-%d\")\n",
        "\n",
        "try:\n",
        "    value = datetime.strptime(\"2020-01-01x\", \"%Y-%m-%d\")\n",
        "except ValueError:\n",
        "    print(\"invalid value\")\n",
        "```\n",
        "\n",
        "Tip #4) Lean on the standard library. It has a lot of useful functions for validating data.\n",
        "\n",
        "* `email.utils.parseaddr()`\n",
        "* `ipaddress.ip_address()`\n",
        "* `urllib.parse.urlparse()`\n",
        "* `json.loads()`\n",
        "\n",
        "Tip #5) When validating other strings, do cleanup first (e.g. `strip()`, `lower()`, etc.). Then use `isalpha()`, `isdigit()`, `isalnum()`, etc. or regular expressions.\n",
        "\n",
        "\n",
        "## `namedtuple`, `dataclasses`, and `pydantic`\n",
        "\n",
        "Python being a loosely typed language can increase the likelihood of certain types of bugs in your code.\n",
        "\n",
        "```python\n",
        "\n",
        "def get_user_info(user_id):\n",
        "    # fetch user information from an API or database\n",
        "    ...\n",
        "\n",
        "    return {\n",
        "        \"id\": user_id,\n",
        "        \"name\": name,\n",
        "        \"email\": email,\n",
        "        \"age\": age,\n",
        "        \"address\": address,\n",
        "        \"phone\": phone,\n",
        "    }\n",
        "\n",
        "user = get_user_info(123)\n",
        "```\n",
        "\n",
        "This works fine, but we've discussed how it can be useful to have a defined interface. The only way to know what keys to expect in a user dictionary is to read the documentation for `get_user_info`.\n",
        "\n",
        "You might be tempted to write a `User` class, just to have a pre-defined set of fields.\n",
        "\n",
        "There are other options, though. Python has a few built-in data structures that can help you define a data structure without having to write a class.\n",
        "\n",
        "### `namedtuple`\n",
        "\n",
        "Often you have a pre-defined set of fields, and you want to be able to access them by name.\n",
        "\n",
        "`namedtuple` is perfect for this use case.  It is exactly what it sounds like, a tuple with named fields.\n",
        "\n",
        "```python\n",
        "from collections import namedtuple\n",
        "\n",
        "# define the namedtuple type \n",
        "# (this would be done at the global scope so it can be used within your module)\n",
        "User = namedtuple(\"User\", [\"id\", \"name\", \"email\", \"age\", \"address\", \"phone\"])\n",
        "\n",
        "# you can then use User the way you would a class\n",
        "def get_user_info(user_id):\n",
        "    # fetch user information from an API or database\n",
        "    ...\n",
        "\n",
        "    # same as order in definition\n",
        "    return User(user_id, name, email, age, address, phone)\n",
        "\n",
        "user = get_user_info(123)\n",
        "# fields can be accessed like attributes\n",
        "print(user.name)\n",
        "# or like a tuple\n",
        "user[0] == user.id\n",
        "```\n",
        "\n",
        "`namedtuple`s are immutable, so you can't change the values of the fields after they are created.\n",
        "\n",
        "A `namedtuple` is useful anywhere a tuple was being used.\n",
        "\n",
        "Think back to your `Hashtable` implementation.\n",
        "Your list of key-value pairs was a list of tuples.\n",
        "\n",
        "You likely had code like:\n",
        "\n",
        "```python\n",
        "while items[index] is not None:\n",
        "    if key == items[index][0]:\n",
        "        return value\n",
        "\n",
        "    index = (index + 1) % self.capacity\n",
        "```\n",
        "\n",
        "Do you remember at a glance what that `[0]` was? Possibly not. \n",
        "If you had a `namedtuple` for your key-value pairs, you could have written:\n",
        "\n",
        "```python\n",
        "while items[index] is not None:\n",
        "    if key == items[index].key:\n",
        "        return value\n",
        "\n",
        "    index = (index + 1) % self.capacity\n",
        "```\n",
        "\n",
        "assuming a `namedtuple` definition like:\n",
        "\n",
        "```python\n",
        "KeyValuePair = namedtuple(\"KeyValuePair\", [\"key\", \"value\"])\n",
        "```\n",
        "\n",
        "`namedtuple`: <https://docs.python.org/3/library/collections.html#collections.namedtuple>\n",
        "\n",
        "In PA #4: https://github.com/uchicago-capp122-spring23/pa4-jamesturk/blob/main/linkage/datatypes.py\n",
        "\n",
        "### `dataclasses`\n",
        "\n",
        "`dataclasses` are a newer addition to Python, and are a bit more powerful than `namedtuple`s.\n",
        "\n",
        "They also take advantage of some newer Python syntax you may not have seen before called type annotations.\n",
        "\n",
        "```python\n",
        "from dataclasses import dataclass\n",
        "\n",
        "@dataclass\n",
        "class User:\n",
        "    id: int\n",
        "    name: str\n",
        "    email: str\n",
        "    age: int\n",
        "    address: str\n",
        "    phone: str\n",
        "```\n",
        "\n",
        "This creates a class with the same fields as the `namedtuple` example above.\n",
        "\n",
        "A default `__init__` method is created for you, so you can create a `User` instance like:\n",
        "\n",
        "```python\n",
        "user = User(123, \"Kulap\", \"kulap@hotmail.com\", 40, \"123 Main St\", \"555-555-5555\")\n",
        "\n",
        "# unlike a namedtuple, you can change the values of the fields\n",
        "user.name = \"Kulap Vilaysack\"\n",
        "```\n",
        "\n",
        "`dataclasses`: <https://docs.python.org/3/library/dataclasses.html>\n",
        "\n",
        "type annotations: <https://docs.python.org/3/library/typing.html>\n",
        "\n",
        "### `pydantic`\n",
        "\n",
        "Taking this a step further, you can use a library called `pydantic` to define a data structure and validate the data that is passed to it.\n",
        "\n",
        "```python\n",
        "from pydantic import BaseModel\n",
        "\n",
        "class User(BaseModel):\n",
        "    id: int\n",
        "    name: str\n",
        "    email: str\n",
        "    age: int\n",
        "    address: str\n",
        "    phone: str\n",
        "```\n",
        "\n",
        "This creates a class with the same fields as the `dataclass` example above.\n",
        "\n",
        "But we can also add validation to the fields."
      ]
    },
    {
      "cell_type": "code",
      "metadata": {},
      "source": [
        "from pydantic import BaseModel, EmailStr, validator\n",
        "\n",
        "class User(BaseModel):\n",
        "    id: int\n",
        "    name: str\n",
        "    email: EmailStr\n",
        "    age: int\n",
        "    address: str\n",
        "    phone: str\n",
        "\n",
        "    @validator(\"age\")\n",
        "    def age_must_be_positive(cls, value):\n",
        "        if value < 0:\n",
        "            raise ValueError(\"age must be positive\")\n",
        "        return value"
      ],
      "execution_count": null,
      "outputs": []
    },
    {
      "cell_type": "markdown",
      "metadata": {},
      "source": [
        "This creates a class where assigning invalid values to attributes raises errors."
      ]
    },
    {
      "cell_type": "code",
      "metadata": {},
      "source": [
        "user = User(\n",
        "        id=123,\n",
        "        name=\"Scott\",\n",
        "        email=\"not-an-email\",\n",
        "        age=-4,\n",
        "        address=\"123 Main St\",\n",
        "        phone=\"555-555-5555\")"
      ],
      "execution_count": null,
      "outputs": []
    },
    {
      "cell_type": "markdown",
      "metadata": {},
      "source": [
        "pydantic: <https://docs.pydantic.dev>\n"
      ]
    }
  ],
  "metadata": {
    "kernelspec": {
      "display_name": "Python 3",
      "language": "python",
      "name": "python3"
    }
  },
  "nbformat": 4,
  "nbformat_minor": 4
}