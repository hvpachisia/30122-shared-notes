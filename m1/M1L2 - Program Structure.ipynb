{
 "cells": [
  {
   "cell_type": "markdown",
   "metadata": {},
   "source": [
    "# Module 1, Lecture 2: Python Ecosystem\n",
    "\n",
    "Today's focus will be on how Python modules work and how they are structured. We'll also be taking a look at tools for using third party packages.\n",
    "\n",
    "## Modules\n",
    "\n",
    "When you write Python, code lives in .py files. \n",
    "\n",
    "These files are called modules. Modules are the basic unit of organization in Python.  Modules can be imported into other modules or be run as a script.\n",
    "\n",
    "Most non-trivial programs are made up of multiple files/modules.\n",
    "\n",
    "* Code reuse: common functions can be shared between projects (e.g. `import math` or `import pathlib`).\n",
    "* Namespace partitioning: Sometimes you have two functions with the same name, but they do different things.  You can import them from different modules.\n",
    " (e.g. `import json` and `import yaml` both have a `load` function, but they do different things.)"
   ]
  },
  {
   "cell_type": "markdown",
   "metadata": {},
   "source": [
    "## Packages\n",
    "\n",
    "Multiple related modules form a package. Packages are created by creating a directory with an `__init__.py` file in it.  The `__init__.py` file can be empty, but it is required to make the directory a package.\n",
    "\n",
    "You typically group modules based on shared purpose. A hypothetical application might have the following:\n",
    "\n",
    "* `ui` package: contains modules related to the user interface\n",
    "* `models` package: contains modules related to the data model\n",
    "* `utils` package: contains modules with common utility functions (often a sort of catch-all)\n",
    "\n",
    "These are completely up to you, the only requirement is that there is a top-level package directory with an `__init__.py` file. That file can be empty, but needs to be present to indicate the directory is a python package.\n",
    "\n",
    "### Example Application\n",
    "\n",
    "##### Application Structure \n",
    "\n",
    "To help us get started thinking about the differences between packages and modules, here's the structure of a simple arithmetic interpreter (located in ``m1/interpreter-repo``): \n",
    "\n",
    "```\n",
    "interpreter-repo\n",
    "├── LICENSE.md\n",
    "├── README.md\n",
    "└── interpreter\n",
    "    ├── __init__.py\n",
    "    ├── __main__.py\n",
    "    ├── app.py\n",
    "    ├── collections\n",
    "    │   └── stack.py\n",
    "    ├── evaluators\n",
    "    │   └── rpn.py\n",
    "    └── ui\n",
    "        ├── basic.py\n",
    "        ├── enhanced.py\n",
    "        └── ui_controller.py\n",
    "```\n",
    "\n",
    "Notice in the root directory (``interpreter-repo``) there is a single folder called ``interpreter``. This directory (i.e., package) is known as the *top-level* package, and all the packages underneath are known as *subpackages*. The subpackages are ``collections``, ``evaluators``, ``ui`` .  The top-level package also contains a special file in ``__main__.py``. This file is run when we execute our top-level package directly via ``python3 -m interpreter``. We'll talk about what goes in that ``__main__.py`` later. \n",
    "\n",
    "### `__main__`\n",
    "\n",
    "The `__main__.py` file is a special file that is run when you execute a package directly.  For example, if you have a package called `foo`, you can run it by executing `python -m foo`.  The `__main__.py` file is the entry point for the package.\n",
    "\n",
    "### `import` variations review\n",
    "\n",
    "Now's a good time to review the different ways you can import modules and packages.\n",
    "\n",
    "1) `import module_name` \n",
    "\n",
    "Imports the module and makes it available in the current namespace.  You can access the module's functions by prefixing them with the module name.  For example, for the module `math` with a function called `sin`, you can access it by calling `math.sin()`.\n",
    "\n",
    "2) `from module_name import module_attr`\n",
    "\n",
    "Imports a specific attribute from a module and makes it available in the current namespace.  For example, `from math import sin` will import the `sin` function from the `math` module and make it available in the current namespace.  You can then call it directly by calling `sin()`.\n",
    "\n",
    "3) `import module_name as alias` or `from module_name import module_attr as alias`\n",
    "\n",
    "Imports a module or attribute and gives it an alias.  For example, `import pandas as pd` will import the `pandas` module and make it available as `pd`.  You can then access the `DataFrame` class as `pd.DataFrame`. This is commonly used in data science libraries (`import numpy as np`, `import pandas as pd`, etc) but overuse can make code harder to read. It's best to use aliases sparingly.\n",
    "\n",
    "4) `from module import *`\n",
    "\n",
    "Makes contents of module available in the current namespace. This is considered bad practice and should not be used. It can lead to namespace collisions and make it hard to tell where functions are coming from.\n",
    "\n",
    "### Absolute vs Relative Imports\n",
    "\n",
    "Python has two types of imports: absolute and relative.  Absolute imports are imports that start from the top-level package.  Relative imports are imports that start from the current module.  Relative imports are denoted by a `.`.\n",
    "\n",
    "In our above application, from outside the package you might import the `ui` package via `import interpreter.ui`.  This is an absolute import.  If you are inside the `ui` package, you might import the `ui_controller` module via `from . import ui_controller`.  This is a relative import.\n",
    "\n",
    "Relative imports allow you to rename/refactor packages with fewer updates to your imports.\n",
    "\n",
    "For more details you may want to read [Absolute vs. Relative Imports](https://realpython.com/absolute-vs-relative-python-imports/)."
   ]
  },
  {
   "cell_type": "markdown",
   "metadata": {},
   "source": [
    "### Running from the Command Line\n",
    "\n",
    "You can run a Python module directly from the command line by executing `python module_name.py` or `python -m module_name`. When you do this, all of the code in the module is executed.\n",
    "\n",
    "Sometimes you want to only have some of the code in a module run when it is executed directly.  You can use the `__name__` variable to check if the module is being run directly.  If it is, `__name__` will be set to `__main__`.  For example:\n",
    "\n",
    "```python\n",
    "# import_example.py \n",
    "import math     # modules can import other modules, these will be resolved in order as they are encountered\n",
    "\n",
    "\n",
    "print(\"near the top of the file\")\n",
    "\n",
    "\n",
    "def f(x):\n",
    "    return math.sin(x) ** 2 - math.cos(x)\n",
    "\n",
    "\n",
    "print(\"near the bottom of the file, __name__=\", __name__)\n",
    "\n",
    "\n",
    "if __name__ == \"__main__\":\n",
    "    print(\"module imported as main\")\n",
    "```\n",
    "\n",
    "Running `python3 example.py` will print `Running module directly`.  Importing the module will not print anything, but will allow access to the `func` function."
   ]
  },
  {
   "cell_type": "code",
   "execution_count": 1,
   "metadata": {},
   "outputs": [
    {
     "name": "stdout",
     "output_type": "stream",
     "text": [
      "near the top of the file\n",
      "near the bottom of the file, __name__= import_example\n"
     ]
    }
   ],
   "source": [
    "# Demo 1: importing the file directly\n",
    "import import_example"
   ]
  },
  {
   "cell_type": "code",
   "execution_count": 5,
   "metadata": {},
   "outputs": [
    {
     "name": "stdout",
     "output_type": "stream",
     "text": [
      "near the top of the file\n",
      "near the bottom of the file, __name__= __main__\n",
      "module imported as main\n"
     ]
    }
   ],
   "source": [
    "# Demo 2: running from command line (! in `ipython` lets us run things as we would from CLI)\n",
    "!python3 import_example.py"
   ]
  },
  {
   "cell_type": "markdown",
   "metadata": {},
   "source": [
    "### Packages\n",
    "\n",
    "An application like the one above, it is common to make the top-level package executable. To execute a package you can run `python -m package_name`.  This will execute the `__main__.py` file in the package.\n",
    "\n",
    "Some built in modules have an executable package.\n",
    "\n",
    "* `python3 -m http.server` - starts a simple web server\n",
    "* `python3 -m json.tool` - pretty prints JSON\n",
    "* `python3 -m unittest` - runs unit tests\n",
    "* `python3 -m venv` - creates a virtual environment\n",
    "\n",
    "## Command Line Arguments\n",
    "\n",
    "Whichever way you run a Python module, you can pass command line arguments to it.  These arguments wind up in a special list called `sys.argv`.  The first element is the name of the module.  The second element is the first command line argument, and so on.\n",
    "\n",
    "```python\n",
    "# my_module.py\n",
    "import sys\n",
    "\n",
    "if __name__ == \"__main__\":\n",
    "    print(sys.argv)\n",
    "```\n",
    "\n",
    "```bash\n",
    "$ python3 -m my_module arg1 arg2\n",
    "['my_module.py', 'arg1', 'arg2']\n",
    "```\n",
    "\n",
    "These arguments are available in the `sys.argv` list.  The first argument is the name of the module.  The second argument is the first command line argument, and so on.\n",
    "\n",
    "If you've used the command line much, you're probably familiar with programs that take all sorts of flags and arguments.\n",
    "There are several modules that help with turning command line arguments into a more structured format.\n",
    "\n",
    "* [`argparse`](https://docs.python.org/3/library/argparse.html) - Built in to Python, but a bit verbose. Very flexible.\n",
    "* [`click`](https://click.palletsprojects.com/) - Very popular and easy to get started with.\n",
    "* [`typer`](https://typer.tiangolo.com/) - Built on top of `click` and uses type annotations to generate help text.\n",
    "* [`docopt`](http://docopt.org/) - Uses a docstring to define arguments.\n",
    "\n",
    "## Third Party Packages\n",
    "\n",
    "One of the reasons Python is so popular is the ecosystem of third party packages.  There are thousands of packages available for almost any task you can think of.  You can find a list of packages on [PyPI](https://pypi.org/), the Python Package Index.  (It is also possible to install packages from other sources, but this is the default & has hundreds of packages you might use.)\n",
    "\n",
    "While packages like `math` and `csv` are built in to Python, other packages need to be installed. Some packages you've already used like `pytest` and `pandas` are installed on the CS Linux machines already. You may have found that if you tried to run code with those on your local machine it didn't work.\n",
    "\n",
    "### Installing Packages\n",
    "\n",
    "It's possible to install packages from PyPI using a tool called `pip`. `pip` is a package manager that is installed with Python.  You can install packages using `pip install package_name`.  For example, to install `pytest` you would run `pip install pytest`.\n",
    "\n",
    "Doing things this way installs packages globally. This can lead to issues when different programs rely on conflicting versions of packages. For this reason, it's best to install packages in a virtual environment.\n",
    "\n",
    "## Virtual Environments\n",
    "\n",
    "A virtual environment is a self-contained Python installation that contains its own set of packages.  This allows you to have different versions of packages installed in different environments.  This is especially useful when you are working on multiple projects that have conflicting requirements.  \n",
    "\n",
    "#### `venv` demo\n",
    "\n",
    "* `python -m venv <dirname>` - create environment in a directory\n",
    "* `<dirname>/bin/activate` - activate environment in a given session\n",
    "* `rm <dirname>` - remove the environment\n",
    "* `pip install -r requirements.txt` - install list of packages from a file\n",
    "\n",
    "### poetry, pdm, pipenv\n",
    "\n",
    "Manually managing virtual environments can get tedious, if you plan to distribute your software at all you need to keep a list of dependencies around & make sure they are compatible with your code & as up to date as possible (for security fixes, etc.).\n",
    "\n",
    "In the last few years, a new generation of tools have risen in popularity.\n",
    "\n",
    "`poetry`, `pdm`, `pipenv` all essentially do the same thing, maintaining a list of dependencies for you as well as tools to build the virtualenv & run commands within it.\n",
    "\n",
    "We'll be using `poetry` for this class, but the principles are virtually identical in `pdm` or `pipenv`."
   ]
  },
  {
   "cell_type": "markdown",
   "metadata": {},
   "source": [
    "#### `poetry` demo\n",
    "\n",
    "* `poetry install` - Install poetry packages from `pyproject.toml`\n",
    "* `poetry add <pkgname>` - Add package to poetry environment (will update `pyproject.toml` and `poetry.lock`)\n",
    "* `poetry remove <pkgname>` - Remove package from poetry environment.\n",
    "* `poetry shell` - Same as activating virtualenv.\n",
    "* `poetry run` - Run a command inside of virtualenv without \"activating\" it.  (Can be used instead of `shell`, matter of preference.)\n",
    "* `poetry init` - Create a new poetry project.  (Not needed when a pyproject.toml already exists)"
   ]
  },
  {
   "cell_type": "markdown",
   "metadata": {},
   "source": []
  },
  {
   "cell_type": "markdown",
   "metadata": {},
   "source": []
  }
 ],
 "metadata": {
  "kernelspec": {
   "display_name": "Python 3 (ipykernel)",
   "language": "python",
   "name": "python3"
  },
  "language_info": {
   "codemirror_mode": {
    "name": "ipython",
    "version": 3
   },
   "file_extension": ".py",
   "mimetype": "text/x-python",
   "name": "python",
   "nbconvert_exporter": "python",
   "pygments_lexer": "ipython3",
   "version": "3.10.3"
  },
  "vscode": {
   "interpreter": {
    "hash": "03d017af59b1f184e3e6877a5ace49af0d318c89bb1bae41c67f8176641cfeb8"
   }
  }
 },
 "nbformat": 4,
 "nbformat_minor": 4
}
