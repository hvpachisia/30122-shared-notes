{
 "cells": [
  {
   "cell_type": "markdown",
   "metadata": {},
   "source": [
    "# M1: Program Structure\n",
    "\n",
    "## About this Course\n",
    "\n",
    "* How this course is different from 121\n",
    "* Goals of the course\n",
    "    * Real-world experience (program structure, data structures, finding & evaluating tools)\n",
    "    * Understand ins & outs of data (collection, cleaning, visualization)\n",
    "### Syllabus Overview\n",
    "\n",
    "## Lecture 1: Program Structure\n",
    "\n",
    "In this module, we will explore the basics of software organization & structure in a Python program.\n",
    "There is no singular way to structure a program, but we'll be discussing tools & conventions common in Python.\n",
    "\n",
    "\n",
    "### Interfaces & Abstract Classes\n",
    "\n",
    "When we talk about program design we start using the term \"interface\" a lot.\n",
    "You've likely heard the term API, or application programming interface, even if you're not quite sure what it means.\n",
    "\n",
    "When we talk about an interface, we're talking about the \"exposed\" means of interacting with a system.\n",
    "\n",
    "When you get into a car, there's an interface for starting the engine, controlling the direction, speed, etc.\n",
    "There are of course, other ways to start and stop a car -- but we generally prefer to use the pedals.\n",
    "\n",
    "The same is true of our code. When we write functions and classes meant to be used by other developers, or other parts of our own code, we are creating interfaces.  We can think of interfaces as a contract between the developer and the user of the interface.\n",
    "\n",
    "#### Example: Student Interface\n",
    "\n",
    "Two developers, José and Sally, are working together on a project. \n",
    "\n",
    "José is responsible for defining the class definitions of the type of people. For example:\n"
   ]
  },
  {
   "cell_type": "code",
   "execution_count": 2,
   "metadata": {},
   "outputs": [],
   "source": [
    "from datetime import date"
   ]
  },
  {
   "cell_type": "code",
   "execution_count": 3,
   "metadata": {},
   "outputs": [],
   "source": [
    "class Student:\n",
    "    def __init__(self, first_name, last_name, birth_date):\n",
    "        self.first_name = first_name\n",
    "        self.last_name = last_name\n",
    "        self.birth_date = birth_date\n",
    "\n",
    "    def age(self):\n",
    "        today = date.today()\n",
    "        # calculate age\n",
    "        age = today.year - self.birth_date.year - ((today.month, today.day) < (self.birth_date.month, self.birth_date.day))\n",
    "        return str(age)\n",
    "    \n",
    "students = [Student(\"Ada\", \"Lovelace\", date(2000, 12, 10)), \n",
    "            Student(\"Charles\", \"Babbage\", date(1991, 12, 26))]\n"
   ]
  },
  {
   "cell_type": "markdown",
   "metadata": {},
   "source": [
    "\n",
    "Sarah's job is to define a function that displays the full names and ages of people. She starts with a function like:\n",
    "\n"
   ]
  },
  {
   "cell_type": "code",
   "execution_count": 4,
   "metadata": {},
   "outputs": [
    {
     "name": "stdout",
     "output_type": "stream",
     "text": [
      "Ada Lovelace is 22 years old.\n",
      "Charles Babbage is 31 years old.\n"
     ]
    }
   ],
   "source": [
    "def display_people(people):\n",
    "    for person in people:\n",
    "        print(f\"{person.first_name} {person.last_name} is {person.age()} years old.\")\n",
    "\n",
    "display_people(students)"
   ]
  },
  {
   "cell_type": "markdown",
   "metadata": {},
   "source": [
    "\n",
    "José then reads [Falsehoods Programmers Believe About Names](https://www.kalzumeus.com/2010/06/17/falsehoods-programmers-believe-about-names/) and decides that he wants to change the implementation to store the name as a tuple of first and last names.\n"
   ]
  },
  {
   "cell_type": "code",
   "execution_count": 5,
   "metadata": {},
   "outputs": [],
   "source": [
    "class Student:\n",
    "    def __init__(self, first_name, last_name, birth_date):\n",
    "        # for now we'll leave the constructor the same and just combine the two\n",
    "        self.names = (first_name, last_name)\n",
    "        self.birth_date = birth_date\n",
    "\n",
    "    def age(self):\n",
    "        today = date.today()\n",
    "        # calculate age\n",
    "        age = today.year - self.birth_date.year - ((today.month, today.day) < (self.birth_date.month, self.birth_date.day))\n",
    "        return str(age)"
   ]
  },
  {
   "cell_type": "code",
   "execution_count": 7,
   "metadata": {},
   "outputs": [
    {
     "ename": "AttributeError",
     "evalue": "'Student' object has no attribute 'first_name'",
     "output_type": "error",
     "traceback": [
      "\u001b[0;31m---------------------------------------------------------------------------\u001b[0m",
      "\u001b[0;31mAttributeError\u001b[0m                            Traceback (most recent call last)",
      "Cell \u001b[0;32mIn[7], line 3\u001b[0m\n\u001b[1;32m      1\u001b[0m students \u001b[38;5;241m=\u001b[39m [Student(\u001b[38;5;124m\"\u001b[39m\u001b[38;5;124mAda\u001b[39m\u001b[38;5;124m\"\u001b[39m, \u001b[38;5;124m\"\u001b[39m\u001b[38;5;124mLovelace\u001b[39m\u001b[38;5;124m\"\u001b[39m, date(\u001b[38;5;241m2000\u001b[39m, \u001b[38;5;241m12\u001b[39m, \u001b[38;5;241m10\u001b[39m)), \n\u001b[1;32m      2\u001b[0m             Student(\u001b[38;5;124m\"\u001b[39m\u001b[38;5;124mCharles\u001b[39m\u001b[38;5;124m\"\u001b[39m, \u001b[38;5;124m\"\u001b[39m\u001b[38;5;124mBabbage\u001b[39m\u001b[38;5;124m\"\u001b[39m, date(\u001b[38;5;241m1991\u001b[39m, \u001b[38;5;241m12\u001b[39m, \u001b[38;5;241m26\u001b[39m))]\n\u001b[0;32m----> 3\u001b[0m \u001b[43mdisplay_people\u001b[49m\u001b[43m(\u001b[49m\u001b[43mstudents\u001b[49m\u001b[43m)\u001b[49m\n",
      "Cell \u001b[0;32mIn[4], line 3\u001b[0m, in \u001b[0;36mdisplay_people\u001b[0;34m(people)\u001b[0m\n\u001b[1;32m      1\u001b[0m \u001b[38;5;28;01mdef\u001b[39;00m \u001b[38;5;21mdisplay_people\u001b[39m(people):\n\u001b[1;32m      2\u001b[0m     \u001b[38;5;28;01mfor\u001b[39;00m person \u001b[38;5;129;01min\u001b[39;00m people:\n\u001b[0;32m----> 3\u001b[0m         \u001b[38;5;28mprint\u001b[39m(\u001b[38;5;124mf\u001b[39m\u001b[38;5;124m\"\u001b[39m\u001b[38;5;132;01m{\u001b[39;00m\u001b[43mperson\u001b[49m\u001b[38;5;241;43m.\u001b[39;49m\u001b[43mfirst_name\u001b[49m\u001b[38;5;132;01m}\u001b[39;00m\u001b[38;5;124m \u001b[39m\u001b[38;5;132;01m{\u001b[39;00mperson\u001b[38;5;241m.\u001b[39mlast_name\u001b[38;5;132;01m}\u001b[39;00m\u001b[38;5;124m is \u001b[39m\u001b[38;5;132;01m{\u001b[39;00mperson\u001b[38;5;241m.\u001b[39mage()\u001b[38;5;132;01m}\u001b[39;00m\u001b[38;5;124m years old.\u001b[39m\u001b[38;5;124m\"\u001b[39m)\n",
      "\u001b[0;31mAttributeError\u001b[0m: 'Student' object has no attribute 'first_name'"
     ]
    }
   ],
   "source": [
    "students = [Student(\"Ada\", \"Lovelace\", date(2000, 12, 10)), \n",
    "            Student(\"Charles\", \"Babbage\", date(1991, 12, 26))]\n",
    "display_people(students)"
   ]
  },
  {
   "cell_type": "markdown",
   "metadata": {},
   "source": [
    "Sarah's code breaks because she's accessing the `first_name` and `last_name` attributes directly. She could fix it by accessing the `names` attribute and then indexing into it, but that's not very readable, and it's not very future-proof.\n",
    "\n",
    "Instead, she asks José to define an interface for accessing the name. He does so by defining a `full_name` method:\n"
   ]
  },
  {
   "cell_type": "code",
   "execution_count": 8,
   "metadata": {},
   "outputs": [],
   "source": [
    "\n",
    "class Student:\n",
    "    def __init__(self, first_name, last_name, birth_date):\n",
    "        # for now we'll leave the constructor the same and just combine the two\n",
    "        self.names = (first_name, last_name)\n",
    "        self.birth_date = birth_date\n",
    "\n",
    "    def full_name(self):\n",
    "        return f\"{self.names[0]} {self.names[1]}\"\n",
    "    \n",
    "    def age(self):\n",
    "        today = date.today()\n",
    "        # calculate age\n",
    "        age = today.year - self.birth_date.year - ((today.month, today.day) < (self.birth_date.month, self.birth_date.day))\n",
    "        return str(age)"
   ]
  },
  {
   "cell_type": "markdown",
   "metadata": {},
   "source": [
    "\n",
    "and updates her function to use it:\n"
   ]
  },
  {
   "cell_type": "code",
   "execution_count": 9,
   "metadata": {},
   "outputs": [],
   "source": [
    "def display_people(people):\n",
    "    for person in people:\n",
    "        print(f\"{person.full_name()} is {person.age()} years old.\")"
   ]
  },
  {
   "cell_type": "code",
   "execution_count": 11,
   "metadata": {},
   "outputs": [
    {
     "name": "stdout",
     "output_type": "stream",
     "text": [
      "Ada Lovelace is 22 years old.\n",
      "Charles Babbage is 31 years old.\n"
     ]
    }
   ],
   "source": [
    "students = [Student(\"Ada\", \"Lovelace\", date(2000, 12, 10)), \n",
    "            Student(\"Charles\", \"Babbage\", date(1991, 12, 26))]\n",
    "display_people(students)"
   ]
  },
  {
   "cell_type": "markdown",
   "metadata": {},
   "source": [
    "\n",
    "\n",
    "Now, if José decides to change the implementation of the name, Sarah's code won't break since they've agreed on an interface.\n",
    "\n",
    "A new team member, Pat, is tasked with writing an `Employee` class.\n"
   ]
  },
  {
   "cell_type": "code",
   "execution_count": 12,
   "metadata": {},
   "outputs": [],
   "source": [
    "\n",
    "class Employee:\n",
    "    def __init__(self, first_name, last_name, age, employee_id):\n",
    "        self.names = (first_name, last_name)\n",
    "        self.age = age\n",
    "        self.employee_id = employee_id\n",
    "\n",
    "    def name(self):\n",
    "        return f\"{self.names[0]} {self.names[1]}\"\n"
   ]
  },
  {
   "cell_type": "code",
   "execution_count": 15,
   "metadata": {},
   "outputs": [
    {
     "ename": "AttributeError",
     "evalue": "'Employee' object has no attribute 'full_name'",
     "output_type": "error",
     "traceback": [
      "\u001b[0;31m---------------------------------------------------------------------------\u001b[0m",
      "\u001b[0;31mAttributeError\u001b[0m                            Traceback (most recent call last)",
      "Cell \u001b[0;32mIn[15], line 4\u001b[0m\n\u001b[1;32m      1\u001b[0m \u001b[38;5;66;03m# Sarah is asked to ensure display_people will work for Employee as well\u001b[39;00m\n\u001b[1;32m      2\u001b[0m employees \u001b[38;5;241m=\u001b[39m [Employee(\u001b[38;5;124m\"\u001b[39m\u001b[38;5;124mFred\u001b[39m\u001b[38;5;124m\"\u001b[39m, \u001b[38;5;124m\"\u001b[39m\u001b[38;5;124mFlintstone\u001b[39m\u001b[38;5;124m\"\u001b[39m, \u001b[38;5;241m44\u001b[39m, \u001b[38;5;241m1\u001b[39m), \n\u001b[1;32m      3\u001b[0m              Employee(\u001b[38;5;124m\"\u001b[39m\u001b[38;5;124mGeorge\u001b[39m\u001b[38;5;124m\"\u001b[39m, \u001b[38;5;124m\"\u001b[39m\u001b[38;5;124mJetson\u001b[39m\u001b[38;5;124m\"\u001b[39m, \u001b[38;5;241m40\u001b[39m, \u001b[38;5;241m7777\u001b[39m)]\n\u001b[0;32m----> 4\u001b[0m \u001b[43mdisplay_people\u001b[49m\u001b[43m(\u001b[49m\u001b[43memployees\u001b[49m\u001b[43m)\u001b[49m\n",
      "Cell \u001b[0;32mIn[9], line 3\u001b[0m, in \u001b[0;36mdisplay_people\u001b[0;34m(people)\u001b[0m\n\u001b[1;32m      1\u001b[0m \u001b[38;5;28;01mdef\u001b[39;00m \u001b[38;5;21mdisplay_people\u001b[39m(people):\n\u001b[1;32m      2\u001b[0m     \u001b[38;5;28;01mfor\u001b[39;00m person \u001b[38;5;129;01min\u001b[39;00m people:\n\u001b[0;32m----> 3\u001b[0m         \u001b[38;5;28mprint\u001b[39m(\u001b[38;5;124mf\u001b[39m\u001b[38;5;124m\"\u001b[39m\u001b[38;5;132;01m{\u001b[39;00m\u001b[43mperson\u001b[49m\u001b[38;5;241;43m.\u001b[39;49m\u001b[43mfull_name\u001b[49m()\u001b[38;5;132;01m}\u001b[39;00m\u001b[38;5;124m is \u001b[39m\u001b[38;5;132;01m{\u001b[39;00mperson\u001b[38;5;241m.\u001b[39mage()\u001b[38;5;132;01m}\u001b[39;00m\u001b[38;5;124m years old.\u001b[39m\u001b[38;5;124m\"\u001b[39m)\n",
      "\u001b[0;31mAttributeError\u001b[0m: 'Employee' object has no attribute 'full_name'"
     ]
    }
   ],
   "source": [
    "# Sarah is asked to ensure display_people will work for Employee as well\n",
    "employees = [Employee(\"Fred\", \"Flintstone\", 44, 1), \n",
    "             Employee(\"George\", \"Jetson\", 40, 7777)]\n",
    "display_people(employees)"
   ]
  },
  {
   "cell_type": "markdown",
   "metadata": {},
   "source": [
    "\n",
    "Sarah's `display_people` function does not work with `Employee` objects because it's expecting a `full_name` method but `Employee` has a `name` method. Additionally, `age` is a property of `Employee` but a method on `Student`.\n",
    "\n",
    "A naive solution to this might be to add more code to `display_people` to check what type it gets. Why is this not a good idea? \n",
    "\n",
    "\n",
    "This problem stems from the fact that the code the three are writing is already **tightly coupled**. This means that the code is dependent on the implementation details of other parts of the code. In this case, the `display_people` function is dependent on the `full_name` method and the `age` method.\n",
    "\n",
    "\n",
    "To loosely couple the code, we need to define an interface that the `display_people` function can depend on, rather than the implementation details of the `Student` and `Employee` classes."
   ]
  },
  {
   "cell_type": "markdown",
   "metadata": {},
   "source": [
    "#### Abstract Classes\n",
    "\n",
    "One solution to this problem is to define an interface using an abstract class, that defines the methods that must be implemented by any class that implements the interface.\n",
    "\n",
    "In Python, we can use the `abc` module to define abstract classes.\n",
    "A class that inherits from `ABC` is an abstract class, and any methods decorated with `@abstractmethod` must be implemented by any class that inherits from it.\n",
    "\n",
    "For example:"
   ]
  },
  {
   "cell_type": "code",
   "execution_count": 17,
   "metadata": {},
   "outputs": [],
   "source": [
    "from abc import ABC, abstractmethod\n",
    "\n",
    "class Person(ABC):\n",
    "    @abstractmethod\n",
    "    def full_name(self):\n",
    "        pass\n",
    "\n",
    "    @abstractmethod\n",
    "    def age(self):\n",
    "        pass"
   ]
  },
  {
   "cell_type": "markdown",
   "metadata": {},
   "source": [
    "`Person` is an abstract base class (ABC), and any class that inherits from it must implement the `full_name` and `age` methods.\n",
    "Trying to instantiate `Person` directly, or any incomplete subclass, will raise an error.\n",
    "\n",
    "To make a class that implements the `Person` interface, we can do:"
   ]
  },
  {
   "cell_type": "code",
   "execution_count": 18,
   "metadata": {},
   "outputs": [],
   "source": [
    "class Student(Person):\n",
    "    def __init__(self, first_name, last_name, birth_date):\n",
    "        self.names = (first_name, last_name)\n",
    "        self.birth_date = birth_date\n",
    "\n",
    "    def full_name(self):\n",
    "        return f\"{self.names[0]} {self.names[1]}\"\n",
    "\n",
    "    def age(self):\n",
    "        today = date.today()\n",
    "        # calculate age\n",
    "        age = today.year - self.birth_date.year - ((today.month, today.day) < (self.birth_date.month, self.birth_date.day))\n",
    "        return str(age) \n",
    "\n",
    "\n",
    "class Employee(Person):\n",
    "    def __init__(self, first_name, last_name, age, employee_id):\n",
    "        self._names = (first_name, last_name)\n",
    "        self._age = age\n",
    "        self.employee_id = employee_id\n",
    "\n",
    "    def full_name(self):\n",
    "        return f\"{self._names[0]} {self._names[1]}\"\n",
    "\n",
    "    def age(self):\n",
    "        return str(self._age)"
   ]
  },
  {
   "cell_type": "markdown",
   "metadata": {},
   "source": [
    "Sarah's implementation of `display_people` will work with any `Person` subclass, since they are guaranteed to have the required methods."
   ]
  },
  {
   "cell_type": "code",
   "execution_count": 19,
   "metadata": {},
   "outputs": [
    {
     "name": "stdout",
     "output_type": "stream",
     "text": [
      "Ada Lovelace is 22 years old.\n",
      "Charles Babbage is 31 years old.\n",
      "Fred Flintstone is 44 years old.\n",
      "George Jetson is 40 years old.\n"
     ]
    }
   ],
   "source": [
    "students = [Student(\"Ada\", \"Lovelace\", date(2000, 12, 10)), \n",
    "            Student(\"Charles\", \"Babbage\", date(1991, 12, 26))]\n",
    "employees = [Employee(\"Fred\", \"Flintstone\", 44, 1), \n",
    "             Employee(\"George\", \"Jetson\", 40, 77777)]\n",
    "people = students + employees\n",
    "display_people(people)"
   ]
  },
  {
   "cell_type": "markdown",
   "metadata": {},
   "source": [
    "#### Benefits of Interfaces\n",
    "\n",
    "* Ease of maintenance & refactoring.\n",
    "* Quickly add new classes that implement the interface without needing to reconsider design.\n",
    "* Ease of testing.\n",
    "\n",
    "**Note** It is also possible to provide default implementations in classes, which can be overridden by subclasses. For example:"
   ]
  },
  {
   "cell_type": "code",
   "execution_count": 22,
   "metadata": {},
   "outputs": [],
   "source": [
    "from abc import ABC, abstractmethod\n",
    "\n",
    "\n",
    "class Person(ABC):\n",
    "    def __init__(self, first_name, last_name, birth_date):\n",
    "        self.names = (first_name, last_name)\n",
    "        self.birth_date = birth_date\n",
    "\n",
    "    # these methods will be inherited by subclasses, but can be overridden\n",
    "    def full_name(self):\n",
    "        return f\"{self.names[0]} {self.names[1]}\"\n",
    "\n",
    "    def age(self):\n",
    "        today = date.today()\n",
    "        # calculate age\n",
    "        age = today.year - self.birth_date.year - ((today.month, today.day) < (self.birth_date.month, self.birth_date.day))\n",
    "        return str(age) \n",
    "\n",
    "    @abstractmethod\n",
    "    def include_in_payroll(self):\n",
    "        pass\n",
    "\n",
    "\n",
    "class Student(Person):\n",
    "    def __init__(self, first_name, last_name, birth_date):\n",
    "        # if you need to call a parent classes implementation, you can use super()\n",
    "        super().__init__(first_name, last_name, birth_date)\n",
    "        \n",
    "    def include_in_payroll(self):\n",
    "        return False\n",
    "\n",
    "\n",
    "class Employee(Person):\n",
    "    def __init__(self, first_name, last_name, birth_date, employee_id):\n",
    "        super().__init__(first_name, last_name, birth_date)\n",
    "        self.employee_id = employee_id\n",
    "    \n",
    "    def include_in_payroll(self):\n",
    "        return True"
   ]
  },
  {
   "cell_type": "markdown",
   "metadata": {},
   "source": [
    "### Python Data Model\n",
    "\n",
    "The types you already know in Python implement special interfaces.\n",
    "\n",
    "```python\n",
    "# addition\n",
    ">>> 1 + 2\n",
    "3\n",
    ">>> \"hello\" + \"world\"\n",
    "\"helloworld\"\n",
    ">>> [1, 2, 3] + [4, 5, 6]\n",
    "[1, 2, 3, 4, 5, 6]\n",
    "```\n",
    "\n",
    "```python\n",
    "# len()\n",
    ">>> len(\"hello\")\n",
    "5\n",
    ">>> len([1, 2, 3])\n",
    "3\n",
    ">>> len({\"a\": 1, \"b\": 2})\n",
    "2\n",
    "```\n",
    "\n",
    "The `+` operator and the `len()` function are examples of **dunder methods**. These are methods that are defined in the Python data model, and are used by the interpreter to implement certain operations.\n",
    "\n",
    "This allows us to define our own types that can be used in the same way as built-in types.  This is commonly known as **operator overloading**.\n",
    "\n",
    "All classes implicitly inherit from `object`, which is the base class for all types in Python.  `object` defines a number of dunder methods, which are used by the interpreter to implement certain operations.\n",
    "\n",
    "We've already seen:\n",
    "\n",
    "* `__init__`\n",
    "* `__str__`\n",
    "* `__repr__`\n",
    "* `__eq__`\n",
    "\n",
    "There are many more, which you can find in the [Python documentation](https://docs.python.org/3/reference/datamodel.html).\n",
    "\n",
    "By defining these methods, we can make our classes behave like built-in types.  Here's an example:"
   ]
  },
  {
   "cell_type": "markdown",
   "metadata": {},
   "source": [
    "#### StaticArray\n",
    "\n",
    "To demonstrate operator overloading, we'll implement a sequence type seen in other languages known as a *static array*:\n",
    "\n",
    "- A static array is a sequence type (i.e., an object that can hold a collection of items) where there is a fixed capacity to number of items the collection can hold.\n",
    "\n",
    "- Resizing of the array is not allowed after initialization. \n",
    "\n",
    "- We will define a class ``StaticArray`` that will allow use to use built-in python operators.\n",
    "\n",
    "We'll be able to use it like this:\n",
    "\n",
    "```python\n",
    ">>> from static_array import StaticArray\n",
    ">>> sa = StaticArray([1, 2, 3])\n",
    ">>> print(sa * 2)\n",
    "# should produce the following output:\n",
    "# [1, 2, 3, 1, 2, 3]\n",
    ">>> print(sa[1])\n",
    "2\n",
    "```\n",
    "\n"
   ]
  },
  {
   "cell_type": "code",
   "execution_count": 48,
   "metadata": {},
   "outputs": [],
   "source": [
    "from collections.abc import Iterable\n",
    "\n",
    "class StaticArray:\n",
    "    def __init__(self, init_val, capacity = 5):\n",
    "        if isinstance(init_val, Iterable):\n",
    "            self.items = list(init_val)\n",
    "            self.capacity = len(self.items)\n",
    "        else:\n",
    "            self.items = [init_val] * capacity\n",
    "            self.capacity = capacity"
   ]
  },
  {
   "cell_type": "code",
   "execution_count": 49,
   "metadata": {},
   "outputs": [
    {
     "name": "stdout",
     "output_type": "stream",
     "text": [
      "<__main__.StaticArray object at 0x112e8e8f0>\n"
     ]
    }
   ],
   "source": [
    "sa = StaticArray([1, 2, 3])\n",
    "# printing doesn't provide useful information, what is happening here?\n",
    "print(sa)"
   ]
  },
  {
   "cell_type": "code",
   "execution_count": 50,
   "metadata": {},
   "outputs": [],
   "source": [
    "# we can fix that by defining a __repr__ method\n",
    "\n",
    "class StaticArray:\n",
    "    def __init__(self, init_val, capacity = 5):\n",
    "        if isinstance(init_val, Iterable):\n",
    "            self.items = list(init_val)\n",
    "            self.capacity = len(self.items)\n",
    "        else:\n",
    "            self.items = [init_val] * capacity\n",
    "            self.capacity = capacity\n",
    "\n",
    "    def __repr__(self):\n",
    "        return f\"StaticArray({self.items})\""
   ]
  },
  {
   "cell_type": "code",
   "execution_count": 51,
   "metadata": {},
   "outputs": [
    {
     "name": "stdout",
     "output_type": "stream",
     "text": [
      "StaticArray([1, 2, 3])\n"
     ]
    }
   ],
   "source": [
    "sa = StaticArray([1, 2, 3])\n",
    "print(sa)\n"
   ]
  },
  {
   "cell_type": "markdown",
   "metadata": {},
   "source": [
    "#### str() vs repr()\n",
    "\n",
    "These are two functions that convert an object to a string.  The difference is that `str()` is intended to be readable, while `repr()` is intended to be unambiguous.\n",
    "\n",
    "In practice, it is common to just define `__repr__` since `__str__` will default to `__repr__` if it is not defined.\n"
   ]
  },
  {
   "cell_type": "code",
   "execution_count": 5,
   "metadata": {},
   "outputs": [
    {
     "name": "stdout",
     "output_type": "stream",
     "text": [
      "StaticArray([1, 2, 3])\n",
      "StaticArray([1, 2, 3])\n"
     ]
    }
   ],
   "source": [
    "print(str(sa))\n",
    "print(repr(sa))"
   ]
  },
  {
   "cell_type": "markdown",
   "metadata": {},
   "source": [
    "#### Emulating Collections & Sequences\n",
    "\n",
    "**Collections**\n",
    "\n",
    "* Have a length: `len(obj)`\n",
    "* Can be iterated over: `for item in obj: ...`\n",
    "* Can query membership: `item in obj`\n",
    "\n",
    "**Sequences**\n",
    "\n",
    "* Everything a collection can do\n",
    "* Can be indexed: `obj[0]`\n",
    "\n",
    "| You Write...   | Python calls...          |\n",
    "| ---            | ---                      |\n",
    "| ``len(obj)``   | ``obj.__len__()``        |\n",
    "| ``x in obj``   | ``obj.__contains__(x)``  |\n",
    "| ``obj[i]``     | ``obj.__getitem__(i)``   |\n",
    "| ``obj[i] = x`` | ``obj.__setitem__(i,x)`` |\n",
    "| ``del obj[i]`` | ``obj.__delitem__(i)``   |\n"
   ]
  },
  {
   "cell_type": "code",
   "execution_count": 52,
   "metadata": {},
   "outputs": [],
   "source": [
    "class StaticArray:\n",
    "    def __init__(self, init_val, capacity = 5):\n",
    "        if isinstance(init_val, Iterable):\n",
    "            self.items = list(init_val)\n",
    "            self.capacity = len(self.items)\n",
    "        else:\n",
    "            self.items = [init_val] * capacity\n",
    "            self.capacity = capacity\n",
    "\n",
    "    def __repr__(self):\n",
    "        return f\"StaticArray({self.items})\"\n",
    "\n",
    "    def __str__(self):\n",
    "        return f\"StaticArray({self.items})\"\n",
    "\n",
    "    def __len__(self):\n",
    "        return self.capacity\n",
    "\n",
    "    def __contains__(self, item):\n",
    "        return item in self.items\n",
    "\n",
    "    def __getitem__(self, index):\n",
    "        if index >= self.capacity or index < -self.capacity:\n",
    "            raise IndexError(\"Index out of range\")\n",
    "        return self.items[index]\n",
    "\n",
    "    def __setitem__(self, index, val):\n",
    "        if index >= self.capacity or index < -self.capacity:\n",
    "            raise IndexError(\"Index out of range\")\n",
    "        self.items[index] = val\n",
    "\n",
    "    def __delitem__(self, index):\n",
    "        raise NotImplementedError(\"StaticArray does not support deletion\")\n",
    "    "
   ]
  },
  {
   "cell_type": "code",
   "execution_count": 53,
   "metadata": {},
   "outputs": [
    {
     "data": {
      "text/plain": [
       "4"
      ]
     },
     "execution_count": 53,
     "metadata": {},
     "output_type": "execute_result"
    }
   ],
   "source": [
    "sa = StaticArray([1, \"hi\", 3.14, True])\n",
    "len(sa)"
   ]
  },
  {
   "cell_type": "code",
   "execution_count": 54,
   "metadata": {},
   "outputs": [
    {
     "data": {
      "text/plain": [
       "False"
      ]
     },
     "execution_count": 54,
     "metadata": {},
     "output_type": "execute_result"
    }
   ],
   "source": [
    "42 in sa"
   ]
  },
  {
   "cell_type": "code",
   "execution_count": 55,
   "metadata": {},
   "outputs": [
    {
     "data": {
      "text/plain": [
       "True"
      ]
     },
     "execution_count": 55,
     "metadata": {},
     "output_type": "execute_result"
    }
   ],
   "source": [
    "\"hi\" in sa"
   ]
  },
  {
   "cell_type": "code",
   "execution_count": 56,
   "metadata": {},
   "outputs": [
    {
     "data": {
      "text/plain": [
       "'hi'"
      ]
     },
     "execution_count": 56,
     "metadata": {},
     "output_type": "execute_result"
    }
   ],
   "source": [
    "sa[1]"
   ]
  },
  {
   "cell_type": "code",
   "execution_count": 57,
   "metadata": {},
   "outputs": [
    {
     "ename": "IndexError",
     "evalue": "Index out of range",
     "output_type": "error",
     "traceback": [
      "\u001b[0;31m---------------------------------------------------------------------------\u001b[0m",
      "\u001b[0;31mIndexError\u001b[0m                                Traceback (most recent call last)",
      "Cell \u001b[0;32mIn[57], line 1\u001b[0m\n\u001b[0;32m----> 1\u001b[0m \u001b[43msa\u001b[49m\u001b[43m[\u001b[49m\u001b[38;5;241;43m43\u001b[39;49m\u001b[43m]\u001b[49m\n",
      "Cell \u001b[0;32mIn[52], line 24\u001b[0m, in \u001b[0;36mStaticArray.__getitem__\u001b[0;34m(self, index)\u001b[0m\n\u001b[1;32m     22\u001b[0m \u001b[38;5;28;01mdef\u001b[39;00m \u001b[38;5;21m__getitem__\u001b[39m(\u001b[38;5;28mself\u001b[39m, index):\n\u001b[1;32m     23\u001b[0m     \u001b[38;5;28;01mif\u001b[39;00m index \u001b[38;5;241m>\u001b[39m\u001b[38;5;241m=\u001b[39m \u001b[38;5;28mself\u001b[39m\u001b[38;5;241m.\u001b[39mcapacity \u001b[38;5;129;01mor\u001b[39;00m index \u001b[38;5;241m<\u001b[39m \u001b[38;5;241m-\u001b[39m\u001b[38;5;28mself\u001b[39m\u001b[38;5;241m.\u001b[39mcapacity:\n\u001b[0;32m---> 24\u001b[0m         \u001b[38;5;28;01mraise\u001b[39;00m \u001b[38;5;167;01mIndexError\u001b[39;00m(\u001b[38;5;124m\"\u001b[39m\u001b[38;5;124mIndex out of range\u001b[39m\u001b[38;5;124m\"\u001b[39m)\n\u001b[1;32m     25\u001b[0m     \u001b[38;5;28;01mreturn\u001b[39;00m \u001b[38;5;28mself\u001b[39m\u001b[38;5;241m.\u001b[39mitems[index]\n",
      "\u001b[0;31mIndexError\u001b[0m: Index out of range"
     ]
    }
   ],
   "source": [
    "sa[43]"
   ]
  },
  {
   "cell_type": "markdown",
   "metadata": {},
   "source": [
    "We'll stop here for now, but there are many other operators you can override:\n",
    "\n",
    "#### Emulating numeric operators \n",
    "\n",
    "\n",
    "| You Write...   | Python calls...          |\n",
    "| ---            | ---                      |\n",
    "| ``x + y``   | ``x.__add__(y)``        |\n",
    "| ``x - y``   | ``x.__sub__(y)``  |\n",
    "| ``x * y``     | ``x.__mul__(y)``   |\n",
    "| ``x / y`` | ``x.__truediv__(y)`` |\n",
    "| ``x // y`` | ``x.__floordiv__(y)``   |\n",
    "| ``x ** y`` | ``x.__pow__(y)``   |\n",
    "| ``x @ y`` | ``x.__matmul__(y)``   |\n",
    "\n",
    "\n",
    "#### Reverse/Reflected/Right operators \n",
    "\n",
    "\n",
    "| You Write...   | Python calls...          |\n",
    "| ---            | ---                      |\n",
    "| ``x + y``   | ``y.__radd__(x)``        |\n",
    "| ``x - y``   | ``y.__rsub__(x)``  |\n",
    "| ``x * y``     | ``y.__rmul__(x)``   |\n",
    "| ``x / y`` | ``y.__rtruediv__(x)`` |\n",
    "| ``x // y`` | ``y.__rfloordiv__(x)``   |\n",
    "| ``x ** y`` | ``y.__rpow__(x)``   |\n",
    "| ``x @ y`` | ``y.__rmatmul__(x)``   |\n",
    "\n",
    "\n",
    "#### Reverse/Reflected/Right operators \n",
    "\n",
    "\n",
    "| You Write...   | Python calls...          |\n",
    "| ---            | ---                      |\n",
    "| ``x + y``   | ``y.__radd__(x)``        |\n",
    "| ``x - y``   | ``y.__rsub__(x)``  |\n",
    "| ``x * y``     | ``y.__rmul__(x)``   |\n",
    "| ``x / y`` | ``y.__rtruediv__(x)`` |\n",
    "| ``x // y`` | ``y.__rfloordiv__(x)``   |\n",
    "| ``x ** y`` | ``y.__rpow__(x)``   |\n",
    "| ``x @ y`` | ``y.__rmatmul__(x)``   |\n",
    "\n",
    "\n",
    "#### Rich Comparison\n",
    "\n",
    "- Python allows you to also overload comparison operators:\n",
    "   \n",
    "  \n",
    "| You Write...   | Python calls...          |\n",
    "| ---            | ---                      |\n",
    "| ``x == y``   | ``x.__eq__(y)``        |\n",
    "| ``x != y``   | ``x.__ne__(y)``  |\n",
    "| ``x < y``     | ``x.__lt__(y)``   |\n",
    "| ``x > y`` | ``x.__gt__(y)`` |\n",
    "| ``x <= y`` | ``x.__le__(y)``   |\n",
    "| ``x >= y`` | ``x.__ge__(y)``   |\n",
    "\n"
   ]
  },
  {
   "cell_type": "markdown",
   "metadata": {},
   "source": []
  }
 ],
 "metadata": {
  "kernelspec": {
   "display_name": "Python 3 (ipykernel)",
   "language": "python",
   "name": "python3"
  },
  "language_info": {
   "codemirror_mode": {
    "name": "ipython",
    "version": 3
   },
   "file_extension": ".py",
   "mimetype": "text/x-python",
   "name": "python",
   "nbconvert_exporter": "python",
   "pygments_lexer": "ipython3",
   "version": "3.10.3"
  },
  "vscode": {
   "interpreter": {
    "hash": "03d017af59b1f184e3e6877a5ace49af0d318c89bb1bae41c67f8176641cfeb8"
   }
  }
 },
 "nbformat": 4,
 "nbformat_minor": 4
}
