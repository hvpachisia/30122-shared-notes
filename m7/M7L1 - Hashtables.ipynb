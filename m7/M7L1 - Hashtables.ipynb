{
 "cells": [
  {
   "cell_type": "markdown",
   "id": "bab5dea4-5671-4396-a545-3df4b465f46b",
   "metadata": {},
   "source": [
    "# Hash Tables\n",
    "\n",
    "## What is a Hash Table?\n",
    "\n",
    "Data structure that maps an identifying key with some associated value.\n",
    "\n",
    "Items are saved in a key-indexed table by using a special function (called a **hash function**) on the key.\n",
    "\n",
    "One implementation of a hash table is the Python `dict` type.\n",
    "\n",
    "A goal of hash-tables is to have constant-time lookup of items.  That means we don't want to search the entire list of items, but use the **hash function** to find the item.\n",
    "\n"
   ]
  },
  {
   "cell_type": "code",
   "execution_count": 2,
   "id": "34c5d1d8-da7b-443a-adf7-3ab27a7da6b4",
   "metadata": {},
   "outputs": [],
   "source": [
    "class HashTable:\n",
    "    def __init__(self, initial_capacity=7):\n",
    "        self._capacity = initial_capacity\n",
    "        # _cells is a list that will hold all the values\n",
    "        self._cells = [None] * self._capacity\n",
    "        \n",
    "    def _hash(self, key):\n",
    "        # must return consistent values per key, should be as unique as possible\n",
    "        # why does it matter how different it is?\n",
    "        pass\n",
    "    \n",
    "    def insert(self, key, value):\n",
    "        cell_index = self._hash(key)\n",
    "        # is this correct? \n",
    "        self._cells[cell_index] = (key, value)"
   ]
  },
  {
   "cell_type": "markdown",
   "id": "c19db77d-ccff-4fca-a30f-6029640571d2",
   "metadata": {},
   "source": [
    "## Hash Function\n",
    "\n",
    "Function will be used to compute an index (integer) for any possible key.\n",
    "\n",
    "- Each table position should be equally likely.\n",
    "- Convert key into integer and then mod by table size:  $h(k) = k_{int} \\mod M$\n",
    "\n",
    "If keys are strings, could use this as a hash function:\n",
    "\n",
    "```python\n",
    "def _hash(self, key):\n",
    "    code = 0\n",
    "    for ch in key:\n",
    "        # ord is a built in function that converts a character to an integer\n",
    "        code += ord(ch)\n",
    "    return code % self._capacity\n",
    "```"
   ]
  },
  {
   "cell_type": "code",
   "execution_count": 1,
   "id": "18797718-2995-4249-bfc1-59b4f19737bd",
   "metadata": {},
   "outputs": [],
   "source": [
    "class HashTable:\n",
    "    def __init__(self, initial_capacity=7):\n",
    "        self._capacity = initial_capacity\n",
    "        # _cells is a list that will hold all the values\n",
    "        self._cells = [None] * self._capacity\n",
    "        \n",
    "    def _hash(self, key):\n",
    "        code = 0\n",
    "        for ch in key:\n",
    "            # ord is a built in function that converts a character to an integer\n",
    "            code += ord(ch)\n",
    "        return code % self._capacity\n",
    "\n",
    "    def insert(self, key, value):\n",
    "        cell_index = self._hash(key)\n",
    "        # is this correct? \n",
    "        self._cells[cell_index] = (key, value)\n",
    "        \n",
    "    def display(self):\n",
    "        for idx, stored in enumerate(self._cells):\n",
    "            if stored:\n",
    "                print(\"{:<2} {:<10} {}\".format(idx, stored[0], stored[1]))\n",
    "            else:\n",
    "                print(f\"{idx:<2} EMPTY\")"
   ]
  },
  {
   "cell_type": "code",
   "execution_count": 2,
   "id": "c54b0fed-94f9-4bf2-8e95-da4b03d8eb31",
   "metadata": {},
   "outputs": [
    {
     "name": "stdout",
     "output_type": "stream",
     "text": [
      "0  ac         23\n",
      "1  EMPTY\n",
      "2  EMPTY\n",
      "3  EMPTY\n",
      "4  cat        12\n",
      "5  EMPTY\n",
      "6  a          45\n"
     ]
    }
   ],
   "source": [
    "ht = HashTable()\n",
    "ht.insert(\"a\", 45)     # 97 % 7 = 6\n",
    "ht.insert(\"ac\", 23)\n",
    "ht.insert(\"cat\", 12)   # 99+97+116 % 7 = 4\n",
    "ht.display()"
   ]
  },
  {
   "cell_type": "markdown",
   "id": "d2305b0a-97ca-4c01-8fad-1b922661094f",
   "metadata": {},
   "source": [
    "## Collisions\n",
    "\n",
    "Obviously we can't fit every piece of data into our table. What happens if two pieces of data hash to the same value?"
   ]
  },
  {
   "cell_type": "code",
   "execution_count": 22,
   "id": "27aa5dbf-a5cd-47b4-ac04-9f3632281b7d",
   "metadata": {},
   "outputs": [
    {
     "name": "stdout",
     "output_type": "stream",
     "text": [
      "0  ac         23\n",
      "1  EMPTY\n",
      "2  EMPTY\n",
      "3  EMPTY\n",
      "4  act        100\n",
      "5  EMPTY\n",
      "6  a          45\n"
     ]
    }
   ],
   "source": [
    "ht.insert(\"act\", 100)\n",
    "ht.display()"
   ]
  },
  {
   "cell_type": "markdown",
   "id": "b81c7559-2890-44cc-be0c-6297863f33bd",
   "metadata": {},
   "source": [
    "Two problems here, one is that our hash function is not very robust and easily supplies collisions, but due to need to `mod`, even the most robust function will eventually collide.\n",
    "\n",
    "Therefore every hash table needs a collision resolution scheme.\n",
    "\n",
    "### Polynomial Hash Function\n",
    "\n",
    "A more effective approach is to use Horner’s method to compute\n",
    "a polynomial whose coefficients are the integer values of the\n",
    "characters in a string:\n",
    "\n",
    "$$\n",
    "p(x) = a_0 + a_1x + a_2x^2 + a_3x^3 + ... + a_nx^n\n",
    "$$\n",
    "\n",
    "which, via Horner's rule is the same as:\n",
    "\n",
    "$$\n",
    "= a_0 + x ( a_1 + x ( a_2 + x( a_3 + ... + x ( a_{n-1} + xa_n) ... )))\n",
    "$$\n",
    "\n",
    "Where $a_i$ is the integer value for the character at position $i$ in the string and $x$ is a prime constant integer.\n",
    "\n",
    "In Python:\n",
    "\n",
    "```python\n",
    "multiplier = 37 # prime\n",
    "hash_value = 0\n",
    "hash_value = (hash_value * multiplier + ord(\"a\"))\n",
    "hash_value = (hash_value * multiplier + ord(\"b\"))\n",
    "hash_value = (hash_value * multiplier + ord(\"c\"))\n",
    "hash_value = hash_value % self._capacity\n",
    "```\n",
    "\n",
    "**In Programming Assignment #1, you'll need to implement this (using a for-loop) in your `_hash` function.)**\n"
   ]
  },
  {
   "cell_type": "markdown",
   "id": "8f7ee978-16d5-40c3-bbcc-c0045c742294",
   "metadata": {},
   "source": [
    "## Collision Resolution\n",
    "\n",
    "Of course, even with a better hash function, collisions must occur.\n",
    "\n",
    "There are two primary ways to handle a collision:\n",
    "\n",
    "**Separate Chaining**\n",
    "\n",
    "Put keys that collide in a list, so all values that hash to `7` wind up in a list together that must be searched.\n",
    "\n",
    "(What happens if hash is bad?)\n",
    "\n",
    "**Open Addressing** (linear probing, quadratic probing, double hashing, etc.)\n",
    "\n",
    "When a key collides, find a new slot using another algorithm.\n",
    "\n",
    "Complex collision patterns, particularly around rehashing.\n",
    "\n",
    "### Linear Probing\n",
    "\n",
    "Resolve collision by moving to another index.  Linear probing just looks at next available cell.\n",
    "\n",
    "Let's say two values have the same hash (e.g. \"act\" and \"cat\" again)\n",
    "\n",
    "```python\n",
    "h(\"cat\") == 4\n",
    "h(\"act\") == 4\n",
    "h.insert(\"cat\", 5)\n",
    "h.insert(\"act\", 100)\n",
    "```\n",
    "\n",
    "| Index | 0 | 1 | 2 | 3 | 4 | 5 | 6 |\n",
    "|-------|---|---|---|---|---|---|---|\n",
    "| Cell  | None | None | None | None | (\"cat\", 5) | (\"act\", 100) | None |\n",
    "\n",
    "When \"act\" is inserted, we find that position 4 is full, so we just go to position 5.  If it was full, we'd go to position 6, and so on (wrapping around if needed).\n"
   ]
  },
  {
   "cell_type": "markdown",
   "id": "705ea9a8-12e8-4735-81cd-50ef51ea2138",
   "metadata": {},
   "source": [
    "### Rehashing\n",
    "\n",
    "Eventually the table is too full.   It is tempting to just grow the capacity, but what happens if we do?\n",
    "\n",
    "So instead, we have to rehash.  Go through all items & compute new hashes.\n",
    "\n",
    "**When to rehash?**\n",
    "\n",
    "Why not wait until the end?\n",
    "\n",
    "Typically compute a load factor (# of items) / (capacity).  When capacity is 50% or 75% time to rehash.\n",
    "\n",
    "### Programming Assignment #1\n",
    "\n",
    "* implement polynomial `_hash` as defined above\n",
    "* insertion & retrieval with rehashing "
   ]
  },
  {
   "cell_type": "code",
   "execution_count": null,
   "id": "82e7e09a-d3d9-4fbb-b8d6-ea02aef6ab27",
   "metadata": {},
   "outputs": [],
   "source": []
  }
 ],
 "metadata": {
  "kernelspec": {
   "display_name": "Python 3 (ipykernel)",
   "language": "python",
   "name": "python3"
  },
  "language_info": {
   "codemirror_mode": {
    "name": "ipython",
    "version": 3
   },
   "file_extension": ".py",
   "mimetype": "text/x-python",
   "name": "python",
   "nbconvert_exporter": "python",
   "pygments_lexer": "ipython3",
   "version": "3.10.9"
  }
 },
 "nbformat": 4,
 "nbformat_minor": 5
}
