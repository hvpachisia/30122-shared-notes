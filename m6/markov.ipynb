{
 "cells": [
  {
   "cell_type": "markdown",
   "id": "4c0a10db-4111-4dff-85c5-f49539bff54a",
   "metadata": {},
   "source": [
    "# Decision Trees & Markov Models"
   ]
  },
  {
   "cell_type": "markdown",
   "id": "c6d4abbd-1c26-4e1c-998e-7e179d487e4b",
   "metadata": {},
   "source": [
    "## Decision Trees\n",
    "\n",
    "**Base Case: Terminal Node**\n",
    "\n",
    "* All data is of same class.\n",
    "* Information Gain is 0.\n",
    "\n",
    "**Recursive Case: Decision Node**\n",
    "\n",
    "* Record most common classification at this node. (**missing values**)\n",
    "* For each (remaining) attribute: compute gain ratio\n",
    "* Add new nodes for split (recursive step)"
   ]
  },
  {
   "cell_type": "code",
   "execution_count": null,
   "id": "473127d7-1a4b-4773-82b2-68c1c3c0518e",
   "metadata": {},
   "outputs": [],
   "source": []
  },
  {
   "cell_type": "markdown",
   "id": "8a05b6ed-a06d-447b-b283-f6c299372794",
   "metadata": {},
   "source": [
    "## Test/Train Split\n",
    "\n",
    "Given a set of labeled records, we split it to train on some portion & test our accuracy on the other.\n",
    "\n",
    "**Why not train on 100%?**\n",
    "\n",
    "- No way to evaluate accuracy.\n",
    "- Recall the \"employee ID\" case -- bad correlations are possible.\n",
    "- High likelihood of overfitting.\n",
    "\n",
    "Tradeoff between accuracy of model & ability to measure accuracy vs. potential accuracy.\n",
    "\n",
    "Can also have different computational costs (e.g. if evaluating model is expensive, might favor smaller test set.)."
   ]
  },
  {
   "cell_type": "code",
   "execution_count": null,
   "id": "a8e37c84-d1fc-440c-b793-6c296f06ac21",
   "metadata": {},
   "outputs": [],
   "source": []
  },
  {
   "cell_type": "markdown",
   "id": "865c264d-c2fe-431b-a7ba-692f921aeec2",
   "metadata": {},
   "source": [
    "### Markov Models\n",
    "\n",
    "**Markov process**: process in which each event is dependent only upon current state."
   ]
  },
  {
   "cell_type": "markdown",
   "id": "a2190fa2-c2a0-4dd5-8444-7776284a1648",
   "metadata": {},
   "source": [
    "**Die Roll Example**"
   ]
  },
  {
   "cell_type": "markdown",
   "id": "1d222a39-4a26-4143-893d-8f50de67b7a1",
   "metadata": {},
   "source": [
    "**Hashtable Representation**"
   ]
  },
  {
   "cell_type": "markdown",
   "id": "8838a78a-e210-4720-8b78-37c16b5ec765",
   "metadata": {},
   "source": [
    "**Matrix Representation**\n",
    "\n",
    "It is also common to encode these models in a Matrix."
   ]
  },
  {
   "cell_type": "markdown",
   "id": "550345d1-6286-4b24-a03d-eb60de4eb041",
   "metadata": {},
   "source": [
    "Probability of transitioning from (row) to (col):\n",
    "\n",
    "| | Sunny | Cloudy | Rainy |\n",
    "|--|-----|----|----|\n",
    "| Sunny | 0.7 | 0.2 | 0.1 |\n",
    "| Cloudy | 0.5 | 0.3 | 0.2 |\n",
    "| Rainy | 0.3 | 0.3 | 0.4 |"
   ]
  },
  {
   "cell_type": "code",
   "execution_count": 8,
   "id": "69222860-b16f-487f-886d-3be13e08ed09",
   "metadata": {},
   "outputs": [],
   "source": [
    "import numpy as np"
   ]
  },
  {
   "cell_type": "code",
   "execution_count": 14,
   "id": "e7c636ae-31ae-43ec-9abf-abeeb44a24b4",
   "metadata": {},
   "outputs": [
    {
     "data": {
      "text/plain": [
       "array([[0.7, 0.2, 0.1],\n",
       "       [0.5, 0.3, 0.2],\n",
       "       [0.3, 0.3, 0.4]])"
      ]
     },
     "execution_count": 14,
     "metadata": {},
     "output_type": "execute_result"
    }
   ],
   "source": [
    "model = np.array([[0.7, 0.2, 0.1], [0.5, 0.3, 0.2], [0.3, 0.3, 0.4]])\n",
    "model"
   ]
  },
  {
   "cell_type": "code",
   "execution_count": 51,
   "id": "f9720e36-60fc-428f-853f-e54950d0181a",
   "metadata": {},
   "outputs": [
    {
     "data": {
      "text/plain": [
       "array([0, 1, 0])"
      ]
     },
     "execution_count": 51,
     "metadata": {},
     "output_type": "execute_result"
    }
   ],
   "source": [
    "today = np.array([0, 1, 0])\n",
    "today"
   ]
  },
  {
   "cell_type": "code",
   "execution_count": 52,
   "id": "277a01d6-5b6f-4f1d-9580-435367a48d7b",
   "metadata": {},
   "outputs": [
    {
     "data": {
      "text/plain": [
       "array([0.5, 0.3, 0.2])"
      ]
     },
     "execution_count": 52,
     "metadata": {},
     "output_type": "execute_result"
    }
   ],
   "source": [
    "# @: matrix multiplication w/ numpy\n",
    "today @ model # probability distribution of tomorrow"
   ]
  },
  {
   "cell_type": "code",
   "execution_count": 55,
   "id": "e7121ae1-8d59-4c90-a4d3-6472b229b44f",
   "metadata": {},
   "outputs": [
    {
     "data": {
      "text/plain": [
       "array([0.56, 0.25, 0.19])"
      ]
     },
     "execution_count": 55,
     "metadata": {},
     "output_type": "execute_result"
    }
   ],
   "source": [
    "# odds after 2 days\n",
    "today @ np.linalg.matrix_power(model, 2)"
   ]
  },
  {
   "cell_type": "code",
   "execution_count": 58,
   "id": "614c4db4-cf08-4f5f-af52-79e7862dce4b",
   "metadata": {},
   "outputs": [
    {
     "data": {
      "text/plain": [
       "array([0.58064516, 0.24193548, 0.17741935])"
      ]
     },
     "execution_count": 58,
     "metadata": {},
     "output_type": "execute_result"
    }
   ],
   "source": [
    "# ... after 10\n",
    "today @ np.linalg.matrix_power(model, 10)"
   ]
  },
  {
   "cell_type": "code",
   "execution_count": 61,
   "id": "d472ed71-391e-4b23-ac34-d51091f0f307",
   "metadata": {},
   "outputs": [
    {
     "data": {
      "text/plain": [
       "array([0.58064516, 0.24193548, 0.17741935])"
      ]
     },
     "execution_count": 61,
     "metadata": {},
     "output_type": "execute_result"
    }
   ],
   "source": [
    "# ... after 100\n",
    "today @ np.linalg.matrix_power(model, 100)"
   ]
  },
  {
   "cell_type": "markdown",
   "id": "b75a31f8-febb-4b40-acf6-7432783a074f",
   "metadata": {},
   "source": []
  },
  {
   "cell_type": "markdown",
   "id": "93480c07-bc04-45ae-b81b-c6a7a9a9b2a8",
   "metadata": {},
   "source": [
    "We can see after a time the model converges on stable probabilities.\n",
    "\n",
    "Note: not all models do so, they can also become periodic"
   ]
  },
  {
   "cell_type": "code",
   "execution_count": 62,
   "id": "6f9d3663-b756-471a-a956-2d32323b4c7a",
   "metadata": {},
   "outputs": [],
   "source": [
    "sunny = np.array([1, 0, 0])\n",
    "rainy = np.array([0, 0, 1])"
   ]
  },
  {
   "cell_type": "code",
   "execution_count": 63,
   "id": "f6da9484-33df-48c2-ae43-2dd1c14f4244",
   "metadata": {},
   "outputs": [
    {
     "data": {
      "text/plain": [
       "array([0.58064516, 0.24193548, 0.17741935])"
      ]
     },
     "execution_count": 63,
     "metadata": {},
     "output_type": "execute_result"
    }
   ],
   "source": [
    "sunny @ np.linalg.matrix_power(model, 100)"
   ]
  },
  {
   "cell_type": "code",
   "execution_count": 64,
   "id": "588fde77-ef04-47a9-bd6c-39f870496684",
   "metadata": {},
   "outputs": [
    {
     "data": {
      "text/plain": [
       "array([0.58064516, 0.24193548, 0.17741935])"
      ]
     },
     "execution_count": 64,
     "metadata": {},
     "output_type": "execute_result"
    }
   ],
   "source": [
    "rainy @ np.linalg.matrix_power(model, 100)"
   ]
  },
  {
   "cell_type": "code",
   "execution_count": null,
   "id": "6914e6b0-e3e8-4ca6-bc2b-1d884f684742",
   "metadata": {},
   "outputs": [],
   "source": []
  }
 ],
 "metadata": {
  "kernelspec": {
   "display_name": "Python 3 (ipykernel)",
   "language": "python",
   "name": "python3"
  },
  "language_info": {
   "codemirror_mode": {
    "name": "ipython",
    "version": 3
   },
   "file_extension": ".py",
   "mimetype": "text/x-python",
   "name": "python",
   "nbconvert_exporter": "python",
   "pygments_lexer": "ipython3",
   "version": "3.10.9"
  }
 },
 "nbformat": 4,
 "nbformat_minor": 5
}
